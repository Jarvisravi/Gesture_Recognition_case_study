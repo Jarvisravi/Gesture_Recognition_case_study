{
 "cells": [
  {
   "cell_type": "markdown",
   "metadata": {},
   "source": [
    "# Gesture Recognition\n",
    "In this group project, you are going to build a 3D Conv model that will be able to predict the 5 gestures correctly. Please import the following libraries to get started. Once you have completed the code you can download the notebook for making a submission."
   ]
  },
  {
   "cell_type": "code",
   "execution_count": 1,
   "metadata": {},
   "outputs": [],
   "source": [
    "import numpy as np\n",
    "import os\n",
    "import imageio\n",
    "from skimage.transform import resize\n",
    "import datetime\n",
    "import os\n",
    "\n",
    "import matplotlib.pyplot as plt"
   ]
  },
  {
   "cell_type": "markdown",
   "metadata": {},
   "source": [
    "We set the random seed so that the results don't vary drastically."
   ]
  },
  {
   "cell_type": "code",
   "execution_count": 2,
   "metadata": {},
   "outputs": [],
   "source": [
    "np.random.seed(30)\n",
    "import random as rn\n",
    "rn.seed(30)\n",
    "from tensorflow import keras\n",
    "import tensorflow as tf\n",
    "tf.random.set_seed(30)"
   ]
  },
  {
   "cell_type": "markdown",
   "metadata": {},
   "source": [
    "In this block, you read the folder names for training and validation. You also set the `batch_size` here. Note that you set the batch size in such a way that you are able to use the GPU in full capacity. You keep increasing the batch size until the machine throws an error."
   ]
  },
  {
   "cell_type": "markdown",
   "metadata": {},
   "source": [
    "**data path: /home/datasets/Project_data**"
   ]
  },
  {
   "cell_type": "code",
   "execution_count": 3,
   "metadata": {},
   "outputs": [],
   "source": [
    "train_doc = np.random.permutation(open('/home/datasets/Project_data/train.csv').readlines())\n",
    "val_doc = np.random.permutation(open('/home/datasets/Project_data/val.csv').readlines())\n",
    "batch_size = 32 #experiment with the batch size"
   ]
  },
  {
   "cell_type": "markdown",
   "metadata": {},
   "source": [
    "## Generator\n",
    "This is one of the most important part of the code. The overall structure of the generator has been given. In the generator, you are going to preprocess the images as you have images of 2 different dimensions as well as create a batch of video frames. You have to experiment with `img_idx`, `y`,`z` and normalization such that you get high accuracy."
   ]
  },
  {
   "cell_type": "code",
   "execution_count": 4,
   "metadata": {},
   "outputs": [
    {
     "name": "stderr",
     "output_type": "stream",
     "text": [
      "/usr/local/lib/python3.8/dist-packages/keras_preprocessing/image/image_data_generator.py:337: UserWarning: This ImageDataGenerator specifies `zca_whitening`, which overrides setting of `featurewise_center`.\n",
      "  warnings.warn('This ImageDataGenerator specifies '\n"
     ]
    }
   ],
   "source": [
    "from tensorflow.keras.preprocessing.image import ImageDataGenerator\n",
    "\n",
    "datagen = ImageDataGenerator(\n",
    "    zoom_range=0.1,\n",
    "    zca_whitening=True,\n",
    "    width_shift_range=0.1,\n",
    "    height_shift_range=0.1)"
   ]
  },
  {
   "cell_type": "code",
   "execution_count": 5,
   "metadata": {},
   "outputs": [],
   "source": [
    "def generate(source_path, folder_list, batch_size, num_images=20, height=120, width=120, augment=False):\n",
    "    #print( 'Source path = ', source_path, '; batch size =', batch_size)\n",
    "    total_frames = 30\n",
    "\n",
    "    while True:\n",
    "        t = np.random.permutation(folder_list)\n",
    "        num_batches = len(t)//batch_size # calculate the number of batches\n",
    "        #img_idx = sorted(rn.sample(range(0, total_frames), num_images)) #create a list of image numbers you want to use for a particular video\n",
    "        img_idx = np.round(np.linspace(0,total_frames-1,num_images)).astype(int) #create a list of image numbers you want to use for a particular video\n",
    "\n",
    "        for batch in range(num_batches): # we iterate over the number of batches\n",
    "            batch_data   = np.zeros((batch_size, num_images, height, width, 3)) # 3 is the number of channels RGB\n",
    "            batch_labels = np.zeros((batch_size, 5)) # batch_labels is the one hot representation of the output           \n",
    "\n",
    "            for folder in range(batch_size): # iterate over the batch_size\n",
    "                imgs = os.listdir(source_path+'/'+ t[folder + (batch*batch_size)].split(';')[0]) # read all the images in the folder\n",
    "                for idx,item in enumerate(img_idx): #  Iterate over the frames/images of a folder to read them in\n",
    "                    image = imageio.imread(source_path+'/'+ t[folder + (batch*batch_size)].strip().split(';')[0]+'/'+imgs[item]).astype(np.float32)\n",
    "\n",
    "                    #crop the images and resize them. Note that the images are of 2 different shape \n",
    "                    #and the conv3D will throw error if the inputs in a batch have different shapes                    \n",
    "                    h, w, c = image.shape\n",
    "                    image = resize(image, (height, width), anti_aliasing=True)\n",
    "\n",
    "                    # Randomly transform few images of few folders; note that folders are randomly shuffled in each epoch too\n",
    "                    if augment:\n",
    "                        if np.random.randn() > 0:\n",
    "                            image = datagen.random_transform(image)                   \n",
    "\n",
    "                    batch_data[folder,idx,:,:,0] = (image[...,0])/255 #normalise and feed in the image\n",
    "                    batch_data[folder,idx,:,:,1] = (image[...,1])/255 #normalise and feed in the image\n",
    "                    batch_data[folder,idx,:,:,2] = (image[...,2])/255 #normalise and feed in the image                  \n",
    "                    \n",
    "                batch_labels[folder, int(t[folder + (batch*batch_size)].strip().split(';')[2])] = 1\n",
    "\n",
    "            yield batch_data, batch_labels #you yield the batch_data and the batch_labels, remember what does yield do\n",
    "        \n",
    "        # write the code for the remaining data points which are left after full batches\n",
    "        if (len(t)%batch_size):\n",
    "            remaining_batch_size = len(t)%batch_size\n",
    "            batch_data   = np.zeros((remaining_batch_size, num_images, height, width,3)) # 3 is the number of channels RGB\n",
    "            batch_labels = np.zeros((remaining_batch_size,5)) # batch_labels is the one hot representation of the output           \n",
    "\n",
    "            for folder in range(remaining_batch_size): # iterate over the batch_size\n",
    "                imgs = os.listdir(source_path+'/'+ t[folder + (num_batches*batch_size)].split(';')[0]) # read all the images in the folder\n",
    "                for idx,item in enumerate(img_idx): #  Iterate iver the frames/images of a folder to read them in\n",
    "                    image = imageio.imread(source_path+'/'+ t[folder + (num_batches*batch_size)].strip().split(';')[0]+'/'+imgs[item]).astype(np.float32)\n",
    "                \n",
    "                    #crop the images and resize them. Note that the images are of 2 different shape \n",
    "                    #and the conv3D will throw error if the inputs in a batch have different shapes\n",
    "                    h, w, c = image.shape\n",
    "                    image = resize(image, (height, width), anti_aliasing=True)                          \n",
    "                    \n",
    "                    # Randomly transform few images of few folders; note that folders are randomly shuffled in each epoch too\n",
    "                    if augment:\n",
    "                        if np.random.randn() > 0:\n",
    "                            image = datagen.random_transform(image)                   \n",
    "\n",
    "                    batch_data[folder,idx,:,:,0] = (image[...,0])/255 #normalise and feed in the image\n",
    "                    batch_data[folder,idx,:,:,1] = (image[...,1])/255 #normalise and feed in the image\n",
    "                    batch_data[folder,idx,:,:,2] = (image[...,2])/255 #normalise and feed in the image\n",
    "                   \n",
    "                batch_labels[folder, int(t[folder + (num_batches*batch_size)].strip().split(';')[2])] = 1\n",
    "\n",
    "            yield batch_data, batch_labels #you yield the batch_data and the batch_labels, remember what does yield do\n"
   ]
  },
  {
   "cell_type": "markdown",
   "metadata": {},
   "source": [
    "Note here that a video is represented above in the generator as (number of images, height, width, number of channels). Take this into consideration while creating the model architecture."
   ]
  },
  {
   "cell_type": "code",
   "execution_count": 6,
   "metadata": {},
   "outputs": [
    {
     "name": "stdout",
     "output_type": "stream",
     "text": [
      "# training sequences = 663\n",
      "# validation sequences = 100\n"
     ]
    }
   ],
   "source": [
    "curr_dt_time = datetime.datetime.now()\n",
    "train_path = '/home/datasets/Project_data/train'\n",
    "val_path = '/home/datasets/Project_data/val'\n",
    "num_train_sequences = len(train_doc)\n",
    "print('# training sequences =', num_train_sequences)\n",
    "num_val_sequences = len(val_doc)\n",
    "print('# validation sequences =', num_val_sequences)"
   ]
  },
  {
   "cell_type": "markdown",
   "metadata": {},
   "source": [
    "## Common Utils"
   ]
  },
  {
   "cell_type": "markdown",
   "metadata": {},
   "source": [
    "Common utility to plot loss and accuracy"
   ]
  },
  {
   "cell_type": "code",
   "execution_count": 7,
   "metadata": {},
   "outputs": [],
   "source": [
    "def plot_loss_accuracy(history):\n",
    "    # list all data in history\n",
    "    print(history.history.keys())\n",
    "    # summarize history for accuracy\n",
    "    plt.plot(history.history['categorical_accuracy'])\n",
    "    plt.plot(history.history['val_categorical_accuracy'])\n",
    "    plt.title('model accuracy')\n",
    "    plt.ylabel('accuracy')\n",
    "    plt.xlabel('epoch')\n",
    "    plt.legend(['train', 'test'], loc='upper left')\n",
    "    plt.show()\n",
    "    # summarize history for loss\n",
    "    plt.plot(history.history['loss'])\n",
    "    plt.plot(history.history['val_loss'])\n",
    "    plt.title('model loss')\n",
    "    plt.ylabel('loss')\n",
    "    plt.xlabel('epoch')\n",
    "    plt.legend(['train', 'test'], loc='upper left')\n",
    "    plt.show()\n",
    "    \n",
    "    print(\"Max. Training Accuracy\", max(history.history['categorical_accuracy']))\n",
    "    print(\"Max. Validation Accuracy\", max(history.history['val_categorical_accuracy']))"
   ]
  },
  {
   "cell_type": "code",
   "execution_count": 8,
   "metadata": {},
   "outputs": [],
   "source": [
    "def calculate_steps(num_train_sequences, num_val_sequences, batch_size):\n",
    "    if (num_train_sequences%batch_size) == 0:\n",
    "        steps_per_epoch = int(num_train_sequences/batch_size)\n",
    "    else:\n",
    "        steps_per_epoch = (num_train_sequences//batch_size) + 1\n",
    "\n",
    "    if (num_val_sequences%batch_size) == 0:\n",
    "        validation_steps = int(num_val_sequences/batch_size)\n",
    "    else:\n",
    "        validation_steps = (num_val_sequences//batch_size) + 1\n",
    "\n",
    "    return steps_per_epoch,validation_steps"
   ]
  },
  {
   "cell_type": "code",
   "execution_count": 9,
   "metadata": {},
   "outputs": [],
   "source": [
    "def model_callbacks(folder_name):\n",
    "    model_name = str(folder_name) + '_' + str(curr_dt_time).replace(' ','').replace(':','_') + '/'\n",
    "   \n",
    "    if not os.path.exists(model_name):\n",
    "        os.mkdir(model_name)\n",
    "\n",
    "    filepath = model_name + 'model-{epoch:05d}-{loss:.5f}-{categorical_accuracy:.5f}-{val_loss:.5f}-{val_categorical_accuracy:.5f}.h5'\n",
    " #   filepath = model_name + 'model-{epoch:05d}-{loss:.5f}-{categorical_accuracy:.5f}-{val_loss:.5f}-{val_categorical_accuracy:.5f}.keras'\n",
    "    \n",
    "    \n",
    "    checkpoint = ModelCheckpoint(filepath, monitor='val_loss', verbose=1, save_best_only=True, save_weights_only=False, mode='auto', period=1)\n",
    " #   checkpoint = ModelCheckpoint(filepath, monitor='val_loss', verbose=1, save_best_only=False, save_weights_only=False, mode='auto', save_freq='epoch')\n",
    "\n",
    "    LR = ReduceLROnPlateau(monitor='val_loss', factor=0.1, patience=3, min_lr=0.0001, cooldown=1, verbose=1) # write the REducelronplateau code here\n",
    "\n",
    "    return [checkpoint, LR]    "
   ]
  },
  {
   "cell_type": "code",
   "execution_count": 10,
   "metadata": {},
   "outputs": [],
   "source": [
    "def make3dFilter(x):\n",
    "    return tuple([x]*3)\n",
    "\n",
    "def make2dFilter(x):\n",
    "    return tuple([x]*2)"
   ]
  },
  {
   "cell_type": "markdown",
   "metadata": {},
   "source": [
    "## Model\n",
    "Here you make the model using different functionalities that Keras provides. Remember to use `Conv3D` and `MaxPooling3D` and not `Conv2D` and `Maxpooling2D` for a 3D convolution model. You would want to use `TimeDistributed` while building a Conv2D + RNN model. Also remember that the last layer is the softmax. Design the network in such a way that the model is able to give good accuracy on the least number of parameters so that it can fit in the memory of the webcam."
   ]
  },
  {
   "cell_type": "markdown",
   "metadata": {},
   "source": [
    "### Conv3d Models"
   ]
  },
  {
   "cell_type": "markdown",
   "metadata": {},
   "source": [
    "### Model 1 - Frames-16, Epoc-20, Batch size-64"
   ]
  },
  {
   "cell_type": "code",
   "execution_count": 11,
   "metadata": {},
   "outputs": [],
   "source": [
    "from keras.models import Sequential, Model\n",
    "from keras.layers import Dense, Dropout, GRU, LSTM, Flatten, TimeDistributed, Flatten, BatchNormalization, Activation\n",
    "# from keras.layers.convolutional import Conv3D, MaxPooling3D, Conv2D, MaxPooling2D\n",
    "from keras.layers import Conv3D, MaxPooling3D, Conv2D, MaxPooling2D\n",
    "from keras.callbacks import ModelCheckpoint, ReduceLROnPlateau\n",
    "from keras.regularizers import l2\n",
    "from tensorflow.keras import optimizers"
   ]
  },
  {
   "cell_type": "code",
   "execution_count": 12,
   "metadata": {},
   "outputs": [
    {
     "name": "stdout",
     "output_type": "stream",
     "text": [
      "# epochs = 20\n",
      "# batch size = 64\n",
      "# num_frames per video = 16\n",
      "Model: \"conv_3d1\"\n",
      "_________________________________________________________________\n",
      " Layer (type)                Output Shape              Param #   \n",
      "=================================================================\n",
      " conv3d (Conv3D)             (None, 12, 116, 116, 16)  6016      \n",
      "                                                                 \n",
      " max_pooling3d (MaxPooling3D  (None, 6, 58, 58, 16)    0         \n",
      " )                                                               \n",
      "                                                                 \n",
      " batch_normalization (BatchN  (None, 6, 58, 58, 16)    64        \n",
      " ormalization)                                                   \n",
      "                                                                 \n",
      " conv3d_1 (Conv3D)           (None, 4, 56, 56, 32)     13856     \n",
      "                                                                 \n",
      " max_pooling3d_1 (MaxPooling  (None, 4, 28, 28, 32)    0         \n",
      " 3D)                                                             \n",
      "                                                                 \n",
      " batch_normalization_1 (Batc  (None, 4, 28, 28, 32)    128       \n",
      " hNormalization)                                                 \n",
      "                                                                 \n",
      " conv3d_2 (Conv3D)           (None, 2, 26, 26, 64)     55360     \n",
      "                                                                 \n",
      " max_pooling3d_2 (MaxPooling  (None, 2, 13, 13, 64)    0         \n",
      " 3D)                                                             \n",
      "                                                                 \n",
      " batch_normalization_2 (Batc  (None, 2, 13, 13, 64)    256       \n",
      " hNormalization)                                                 \n",
      "                                                                 \n",
      " flatten (Flatten)           (None, 21632)             0         \n",
      "                                                                 \n",
      " dense (Dense)               (None, 128)               2769024   \n",
      "                                                                 \n",
      " batch_normalization_3 (Batc  (None, 128)              512       \n",
      " hNormalization)                                                 \n",
      "                                                                 \n",
      " dropout (Dropout)           (None, 128)               0         \n",
      "                                                                 \n",
      " dense_1 (Dense)             (None, 64)                8256      \n",
      "                                                                 \n",
      " batch_normalization_4 (Batc  (None, 64)               256       \n",
      " hNormalization)                                                 \n",
      "                                                                 \n",
      " dropout_1 (Dropout)         (None, 64)                0         \n",
      "                                                                 \n",
      " dense_2 (Dense)             (None, 5)                 325       \n",
      "                                                                 \n",
      "=================================================================\n",
      "Total params: 2,854,053\n",
      "Trainable params: 2,853,445\n",
      "Non-trainable params: 608\n",
      "_________________________________________________________________\n",
      "None\n"
     ]
    },
    {
     "name": "stderr",
     "output_type": "stream",
     "text": [
      "2024-09-03 05:55:44.546937: W tensorflow/core/common_runtime/gpu/gpu_bfc_allocator.cc:39] Overriding allow_growth setting because the TF_FORCE_GPU_ALLOW_GROWTH environment variable is set. Original config value was 0.\n",
      "2024-09-03 05:55:44.547007: I tensorflow/core/common_runtime/gpu/gpu_device.cc:1525] Created device /job:localhost/replica:0/task:0/device:GPU:0 with 14800 MB memory:  -> device: 0, name: Quadro RTX 5000, pci bus id: 0000:1b:00.0, compute capability: 7.5\n"
     ]
    }
   ],
   "source": [
    "num_epochs = 20 # choose the number of epochs\n",
    "print ('# epochs =', num_epochs)\n",
    "batch_size = 64\n",
    "print ('# batch size =', batch_size)\n",
    "num_frames = 16\n",
    "print ('# num_frames per video =', num_frames)\n",
    "num_images = num_frames\n",
    "height = 120\n",
    "width = 120\n",
    "\n",
    "model1 = Sequential([\n",
    "    Conv3D(16, make3dFilter(5), activation='relu', input_shape=(num_images, height, width, 3)),\n",
    "    MaxPooling3D(make3dFilter(2), padding='same'),\n",
    "    BatchNormalization(),\n",
    "\n",
    "    Conv3D(32, make3dFilter(3), activation='relu'),\n",
    "    MaxPooling3D(pool_size=(1,2,2), padding='same'),\n",
    "    BatchNormalization(),\n",
    "\n",
    "    Conv3D(64, make3dFilter(3), activation='relu'),\n",
    "    MaxPooling3D(pool_size=(1,2,2), padding='same'),\n",
    "    BatchNormalization(),\n",
    "\n",
    "    Flatten(),\n",
    "    Dense(128, activation='relu'),\n",
    "    BatchNormalization(),\n",
    "    Dropout(0.25),\n",
    "\n",
    "    Dense(64, activation='relu'),\n",
    "    BatchNormalization(),\n",
    "    Dropout(0.25),\n",
    "\n",
    "    Dense(5, activation='softmax')     \n",
    "], name=\"conv_3d1\")\n",
    "\n",
    "optimizer = tf.keras.optimizers.Adam() #write your optimizer\n",
    "model1.compile(optimizer=optimizer, loss='categorical_crossentropy', metrics=['categorical_accuracy'])\n",
    "\n",
    "print (model1.summary())"
   ]
  },
  {
   "cell_type": "code",
   "execution_count": 13,
   "metadata": {},
   "outputs": [
    {
     "name": "stdout",
     "output_type": "stream",
     "text": [
      "WARNING:tensorflow:`period` argument is deprecated. Please use `save_freq` to specify the frequency in number of batches seen.\n",
      "steps_per_epoch = 11 - validation_steps = 2\n"
     ]
    }
   ],
   "source": [
    "callbacks_list = model_callbacks(\"model_conv3D_1\")\n",
    "\n",
    "steps_per_epoch, validation_steps = calculate_steps(num_train_sequences, num_val_sequences, batch_size)\n",
    "print(f'steps_per_epoch = {steps_per_epoch} - validation_steps = {validation_steps}')\n",
    "\n",
    "train_generator = generate(train_path, train_doc, batch_size, num_images=num_frames)\n",
    "\n",
    "val_generator   = generate(val_path, val_doc, batch_size, num_images=num_frames)"
   ]
  },
  {
   "cell_type": "code",
   "execution_count": 14,
   "metadata": {},
   "outputs": [
    {
     "name": "stdout",
     "output_type": "stream",
     "text": [
      "Epoch 1/20\n"
     ]
    },
    {
     "name": "stderr",
     "output_type": "stream",
     "text": [
      "2024-09-03 05:55:56.250028: I tensorflow/stream_executor/cuda/cuda_dnn.cc:377] Loaded cuDNN version 8302\n"
     ]
    },
    {
     "name": "stdout",
     "output_type": "stream",
     "text": [
      "11/11 [==============================] - ETA: 0s - loss: 1.5551 - categorical_accuracy: 0.4480\n",
      "Epoch 00001: val_loss improved from inf to 8.19119, saving model to model_conv3D_1_2024-09-0305_55_43.766329/model-00001-1.55511-0.44796-8.19119-0.23000.h5\n",
      "11/11 [==============================] - 116s 11s/step - loss: 1.5551 - categorical_accuracy: 0.4480 - val_loss: 8.1912 - val_categorical_accuracy: 0.2300 - lr: 0.0010\n",
      "Epoch 2/20\n",
      "11/11 [==============================] - ETA: 0s - loss: 0.8151 - categorical_accuracy: 0.6893\n",
      "Epoch 00002: val_loss improved from 8.19119 to 6.75948, saving model to model_conv3D_1_2024-09-0305_55_43.766329/model-00002-0.81510-0.68929-6.75948-0.18000.h5\n",
      "11/11 [==============================] - 106s 11s/step - loss: 0.8151 - categorical_accuracy: 0.6893 - val_loss: 6.7595 - val_categorical_accuracy: 0.1800 - lr: 0.0010\n",
      "Epoch 3/20\n",
      "11/11 [==============================] - ETA: 0s - loss: 0.5623 - categorical_accuracy: 0.7888\n",
      "Epoch 00003: val_loss improved from 6.75948 to 3.30868, saving model to model_conv3D_1_2024-09-0305_55_43.766329/model-00003-0.56231-0.78884-3.30868-0.23000.h5\n",
      "11/11 [==============================] - 98s 10s/step - loss: 0.5623 - categorical_accuracy: 0.7888 - val_loss: 3.3087 - val_categorical_accuracy: 0.2300 - lr: 0.0010\n",
      "Epoch 4/20\n",
      "11/11 [==============================] - ETA: 0s - loss: 0.3890 - categorical_accuracy: 0.8733\n",
      "Epoch 00004: val_loss improved from 3.30868 to 2.80872, saving model to model_conv3D_1_2024-09-0305_55_43.766329/model-00004-0.38896-0.87330-2.80872-0.23000.h5\n",
      "11/11 [==============================] - 80s 8s/step - loss: 0.3890 - categorical_accuracy: 0.8733 - val_loss: 2.8087 - val_categorical_accuracy: 0.2300 - lr: 0.0010\n",
      "Epoch 5/20\n",
      "11/11 [==============================] - ETA: 0s - loss: 0.2883 - categorical_accuracy: 0.9020\n",
      "Epoch 00005: val_loss improved from 2.80872 to 2.80416, saving model to model_conv3D_1_2024-09-0305_55_43.766329/model-00005-0.28825-0.90196-2.80416-0.26000.h5\n",
      "11/11 [==============================] - 83s 8s/step - loss: 0.2883 - categorical_accuracy: 0.9020 - val_loss: 2.8042 - val_categorical_accuracy: 0.2600 - lr: 0.0010\n",
      "Epoch 6/20\n",
      "11/11 [==============================] - ETA: 0s - loss: 0.2085 - categorical_accuracy: 0.9442\n",
      "Epoch 00006: val_loss did not improve from 2.80416\n",
      "11/11 [==============================] - 79s 8s/step - loss: 0.2085 - categorical_accuracy: 0.9442 - val_loss: 3.6159 - val_categorical_accuracy: 0.2100 - lr: 0.0010\n",
      "Epoch 7/20\n",
      "11/11 [==============================] - ETA: 0s - loss: 0.1590 - categorical_accuracy: 0.9623\n",
      "Epoch 00007: val_loss did not improve from 2.80416\n",
      "11/11 [==============================] - 81s 8s/step - loss: 0.1590 - categorical_accuracy: 0.9623 - val_loss: 3.6645 - val_categorical_accuracy: 0.1800 - lr: 0.0010\n",
      "Epoch 8/20\n",
      "11/11 [==============================] - ETA: 0s - loss: 0.1100 - categorical_accuracy: 0.9819\n",
      "Epoch 00008: val_loss did not improve from 2.80416\n",
      "\n",
      "Epoch 00008: ReduceLROnPlateau reducing learning rate to 0.00010000000474974513.\n",
      "11/11 [==============================] - 79s 8s/step - loss: 0.1100 - categorical_accuracy: 0.9819 - val_loss: 3.5285 - val_categorical_accuracy: 0.3200 - lr: 0.0010\n",
      "Epoch 9/20\n",
      "11/11 [==============================] - ETA: 0s - loss: 0.0990 - categorical_accuracy: 0.9804\n",
      "Epoch 00009: val_loss did not improve from 2.80416\n",
      "11/11 [==============================] - 82s 8s/step - loss: 0.0990 - categorical_accuracy: 0.9804 - val_loss: 3.6665 - val_categorical_accuracy: 0.3100 - lr: 1.0000e-04\n",
      "Epoch 10/20\n",
      "11/11 [==============================] - ETA: 0s - loss: 0.0955 - categorical_accuracy: 0.9804\n",
      "Epoch 00010: val_loss did not improve from 2.80416\n",
      "11/11 [==============================] - 78s 8s/step - loss: 0.0955 - categorical_accuracy: 0.9804 - val_loss: 3.6394 - val_categorical_accuracy: 0.3900 - lr: 1.0000e-04\n",
      "Epoch 11/20\n",
      "11/11 [==============================] - ETA: 0s - loss: 0.0721 - categorical_accuracy: 0.9910\n",
      "Epoch 00011: val_loss did not improve from 2.80416\n",
      "\n",
      "Epoch 00011: ReduceLROnPlateau reducing learning rate to 0.0001.\n",
      "11/11 [==============================] - 81s 8s/step - loss: 0.0721 - categorical_accuracy: 0.9910 - val_loss: 3.6790 - val_categorical_accuracy: 0.3700 - lr: 1.0000e-04\n",
      "Epoch 12/20\n",
      "11/11 [==============================] - ETA: 0s - loss: 0.0737 - categorical_accuracy: 0.9925\n",
      "Epoch 00012: val_loss did not improve from 2.80416\n",
      "11/11 [==============================] - 78s 8s/step - loss: 0.0737 - categorical_accuracy: 0.9925 - val_loss: 3.6081 - val_categorical_accuracy: 0.3700 - lr: 1.0000e-04\n",
      "Epoch 13/20\n",
      "11/11 [==============================] - ETA: 0s - loss: 0.0694 - categorical_accuracy: 0.9894\n",
      "Epoch 00013: val_loss did not improve from 2.80416\n",
      "11/11 [==============================] - 83s 8s/step - loss: 0.0694 - categorical_accuracy: 0.9894 - val_loss: 3.7430 - val_categorical_accuracy: 0.3800 - lr: 1.0000e-04\n",
      "Epoch 14/20\n",
      "11/11 [==============================] - ETA: 0s - loss: 0.0615 - categorical_accuracy: 0.9940\n",
      "Epoch 00014: val_loss did not improve from 2.80416\n",
      "11/11 [==============================] - 79s 8s/step - loss: 0.0615 - categorical_accuracy: 0.9940 - val_loss: 3.6221 - val_categorical_accuracy: 0.4400 - lr: 1.0000e-04\n",
      "Epoch 15/20\n",
      "11/11 [==============================] - ETA: 0s - loss: 0.0639 - categorical_accuracy: 0.9940\n",
      "Epoch 00015: val_loss did not improve from 2.80416\n",
      "11/11 [==============================] - 82s 8s/step - loss: 0.0639 - categorical_accuracy: 0.9940 - val_loss: 3.6631 - val_categorical_accuracy: 0.3800 - lr: 1.0000e-04\n",
      "Epoch 16/20\n",
      "11/11 [==============================] - ETA: 0s - loss: 0.0547 - categorical_accuracy: 0.9940\n",
      "Epoch 00016: val_loss did not improve from 2.80416\n",
      "11/11 [==============================] - 79s 8s/step - loss: 0.0547 - categorical_accuracy: 0.9940 - val_loss: 3.8866 - val_categorical_accuracy: 0.3500 - lr: 1.0000e-04\n",
      "Epoch 17/20\n",
      "11/11 [==============================] - ETA: 0s - loss: 0.0570 - categorical_accuracy: 0.9970\n",
      "Epoch 00017: val_loss did not improve from 2.80416\n",
      "11/11 [==============================] - 82s 8s/step - loss: 0.0570 - categorical_accuracy: 0.9970 - val_loss: 3.5850 - val_categorical_accuracy: 0.4000 - lr: 1.0000e-04\n",
      "Epoch 18/20\n",
      "11/11 [==============================] - ETA: 0s - loss: 0.0589 - categorical_accuracy: 0.9940\n",
      "Epoch 00018: val_loss did not improve from 2.80416\n",
      "11/11 [==============================] - 78s 8s/step - loss: 0.0589 - categorical_accuracy: 0.9940 - val_loss: 3.4827 - val_categorical_accuracy: 0.4200 - lr: 1.0000e-04\n",
      "Epoch 19/20\n",
      "11/11 [==============================] - ETA: 0s - loss: 0.0476 - categorical_accuracy: 0.9955\n",
      "Epoch 00019: val_loss did not improve from 2.80416\n",
      "11/11 [==============================] - 82s 8s/step - loss: 0.0476 - categorical_accuracy: 0.9955 - val_loss: 3.3843 - val_categorical_accuracy: 0.4000 - lr: 1.0000e-04\n",
      "Epoch 20/20\n",
      "11/11 [==============================] - ETA: 0s - loss: 0.0625 - categorical_accuracy: 0.9970\n",
      "Epoch 00020: val_loss did not improve from 2.80416\n",
      "11/11 [==============================] - 79s 8s/step - loss: 0.0625 - categorical_accuracy: 0.9970 - val_loss: 3.4408 - val_categorical_accuracy: 0.4300 - lr: 1.0000e-04\n"
     ]
    }
   ],
   "source": [
    "model1_history = model1.fit(train_generator, steps_per_epoch=steps_per_epoch, epochs=num_epochs, verbose=1, \n",
    "                             callbacks=callbacks_list, validation_data=val_generator, \n",
    "                             validation_steps=validation_steps, class_weight=None, initial_epoch=0)"
   ]
  },
  {
   "cell_type": "code",
   "execution_count": 15,
   "metadata": {},
   "outputs": [
    {
     "name": "stdout",
     "output_type": "stream",
     "text": [
      "dict_keys(['loss', 'categorical_accuracy', 'val_loss', 'val_categorical_accuracy', 'lr'])\n"
     ]
    },
    {
     "data": {
      "image/png": "[encoded data removed]",
      "text/plain": [
       "<Figure size 432x288 with 1 Axes>"
      ]
     },
     "metadata": {
      "needs_background": "light"
     },
     "output_type": "display_data"
    },
    {
     "data": {
      "image/png": "[encoded data removed]",
      "text/plain": [
       "<Figure size 432x288 with 1 Axes>"
      ]
     },
     "metadata": {
      "needs_background": "light"
     },
     "output_type": "display_data"
    },
    {
     "name": "stdout",
     "output_type": "stream",
     "text": [
      "Max. Training Accuracy 0.9969834089279175\n",
      "Max. Validaiton Accuracy 0.4399999976158142\n"
     ]
    }
   ],
   "source": [
    "plot_loss_accuracy(model1_history)"
   ]
  },
  {
   "cell_type": "markdown",
   "metadata": {},
   "source": [
    "### Model 2: Frames-30, Epocs-30, Batch size-32"
   ]
  },
  {
   "cell_type": "code",
   "execution_count": 16,
   "metadata": {},
   "outputs": [
    {
     "name": "stdout",
     "output_type": "stream",
     "text": [
      "# epochs = 30\n",
      "# batch size = 32\n",
      "# num_frames per video = 30\n",
      "Model: \"conv_3d2\"\n",
      "_________________________________________________________________\n",
      " Layer (type)                Output Shape              Param #   \n",
      "=================================================================\n",
      " conv3d_3 (Conv3D)           (None, 26, 116, 116, 16)  6016      \n",
      "                                                                 \n",
      " max_pooling3d_3 (MaxPooling  (None, 13, 58, 58, 16)   0         \n",
      " 3D)                                                             \n",
      "                                                                 \n",
      " batch_normalization_5 (Batc  (None, 13, 58, 58, 16)   64        \n",
      " hNormalization)                                                 \n",
      "                                                                 \n",
      " conv3d_4 (Conv3D)           (None, 11, 56, 56, 32)    13856     \n",
      "                                                                 \n",
      " max_pooling3d_4 (MaxPooling  (None, 11, 28, 28, 32)   0         \n",
      " 3D)                                                             \n",
      "                                                                 \n",
      " batch_normalization_6 (Batc  (None, 11, 28, 28, 32)   128       \n",
      " hNormalization)                                                 \n",
      "                                                                 \n",
      " conv3d_5 (Conv3D)           (None, 9, 26, 26, 64)     55360     \n",
      "                                                                 \n",
      " max_pooling3d_5 (MaxPooling  (None, 9, 13, 13, 64)    0         \n",
      " 3D)                                                             \n",
      "                                                                 \n",
      " batch_normalization_7 (Batc  (None, 9, 13, 13, 64)    256       \n",
      " hNormalization)                                                 \n",
      "                                                                 \n",
      " flatten_1 (Flatten)         (None, 97344)             0         \n",
      "                                                                 \n",
      " dense_3 (Dense)             (None, 128)               12460160  \n",
      "                                                                 \n",
      " batch_normalization_8 (Batc  (None, 128)              512       \n",
      " hNormalization)                                                 \n",
      "                                                                 \n",
      " dropout_2 (Dropout)         (None, 128)               0         \n",
      "                                                                 \n",
      " dense_4 (Dense)             (None, 64)                8256      \n",
      "                                                                 \n",
      " batch_normalization_9 (Batc  (None, 64)               256       \n",
      " hNormalization)                                                 \n",
      "                                                                 \n",
      " dropout_3 (Dropout)         (None, 64)                0         \n",
      "                                                                 \n",
      " dense_5 (Dense)             (None, 5)                 325       \n",
      "                                                                 \n",
      "=================================================================\n",
      "Total params: 12,545,189\n",
      "Trainable params: 12,544,581\n",
      "Non-trainable params: 608\n",
      "_________________________________________________________________\n",
      "None\n"
     ]
    }
   ],
   "source": [
    "num_epochs = 30 # choose the number of epochs\n",
    "print ('# epochs =', num_epochs)\n",
    "batch_size = 32\n",
    "print ('# batch size =', batch_size)\n",
    "num_frames = 30\n",
    "print ('# num_frames per video =', num_frames)\n",
    "num_images = num_frames\n",
    "height = 120\n",
    "width = 120\n",
    "\n",
    "model2 = Sequential([\n",
    "    Conv3D(16, make3dFilter(5), activation='relu', input_shape=(num_images, height, width, 3)),\n",
    "    MaxPooling3D(make3dFilter(2), padding='same'),\n",
    "    BatchNormalization(),\n",
    "\n",
    "    Conv3D(32, make3dFilter(3), activation='relu'),\n",
    "    MaxPooling3D(pool_size=(1,2,2), padding='same'),\n",
    "    BatchNormalization(),\n",
    "\n",
    "    Conv3D(64, make3dFilter(3), activation='relu'),\n",
    "    MaxPooling3D(pool_size=(1,2,2), padding='same'),\n",
    "    BatchNormalization(),\n",
    "\n",
    "    Flatten(),\n",
    "    Dense(128, activation='relu'),\n",
    "    BatchNormalization(),\n",
    "    Dropout(0.25),\n",
    "\n",
    "    Dense(64, activation='relu'),\n",
    "    BatchNormalization(),\n",
    "    Dropout(0.25),\n",
    "\n",
    "    Dense(5, activation='softmax')\n",
    "], name=\"conv_3d2\")\n",
    "\n",
    "optimizer = tf.keras.optimizers.Adam() #write your optimizer\n",
    "model2.compile(optimizer=optimizer, loss='categorical_crossentropy', metrics=['categorical_accuracy'])\n",
    "\n",
    "print (model2.summary())"
   ]
  },
  {
   "cell_type": "markdown",
   "metadata": {},
   "source": [
    "The `steps_per_epoch` and `validation_steps` are used by `fit` to decide the number of next() calls it need to make.\n",
    "Let us now fit the model. This will start training the model and with the help of the checkpoints, you'll be able to save the model at the end of each epoch."
   ]
  },
  {
   "cell_type": "code",
   "execution_count": 17,
   "metadata": {},
   "outputs": [
    {
     "name": "stdout",
     "output_type": "stream",
     "text": [
      "WARNING:tensorflow:`period` argument is deprecated. Please use `save_freq` to specify the frequency in number of batches seen.\n"
     ]
    }
   ],
   "source": [
    "callbacks_list = model_callbacks(\"model_conv3D_2\")\n",
    "\n",
    "steps_per_epoch, validation_steps = calculate_steps(num_train_sequences, num_val_sequences, batch_size)\n",
    "\n",
    "train_generator = generate(train_path, train_doc, batch_size, num_images=num_frames)\n",
    "\n",
    "val_generator   = generate(val_path, val_doc, batch_size, num_images=num_frames)"
   ]
  },
  {
   "cell_type": "code",
   "execution_count": 18,
   "metadata": {},
   "outputs": [
    {
     "name": "stdout",
     "output_type": "stream",
     "text": [
      "Epoch 1/30\n",
      "21/21 [==============================] - ETA: 0s - loss: 1.5326 - categorical_accuracy: 0.4344\n",
      "Epoch 00001: val_loss improved from inf to 4.20310, saving model to model_conv3D_2_2024-09-0305_55_43.766329/model-00001-1.53258-0.43439-4.20310-0.23000.h5\n",
      "21/21 [==============================] - 191s 9s/step - loss: 1.5326 - categorical_accuracy: 0.4344 - val_loss: 4.2031 - val_categorical_accuracy: 0.2300 - lr: 0.0010\n",
      "Epoch 2/30\n",
      "21/21 [==============================] - ETA: 0s - loss: 0.9649 - categorical_accuracy: 0.6199\n",
      "Epoch 00002: val_loss improved from 4.20310 to 2.77362, saving model to model_conv3D_2_2024-09-0305_55_43.766329/model-00002-0.96488-0.61991-2.77362-0.24000.h5\n",
      "21/21 [==============================] - 189s 9s/step - loss: 0.9649 - categorical_accuracy: 0.6199 - val_loss: 2.7736 - val_categorical_accuracy: 0.2400 - lr: 0.0010\n",
      "Epoch 3/30\n",
      "21/21 [==============================] - ETA: 0s - loss: 0.6249 - categorical_accuracy: 0.7738\n",
      "Epoch 00003: val_loss improved from 2.77362 to 1.61103, saving model to model_conv3D_2_2024-09-0305_55_43.766329/model-00003-0.62488-0.77376-1.61103-0.32000.h5\n",
      "21/21 [==============================] - 183s 9s/step - loss: 0.6249 - categorical_accuracy: 0.7738 - val_loss: 1.6110 - val_categorical_accuracy: 0.3200 - lr: 0.0010\n",
      "Epoch 4/30\n",
      "21/21 [==============================] - ETA: 0s - loss: 0.4751 - categorical_accuracy: 0.8341\n",
      "Epoch 00004: val_loss did not improve from 1.61103\n",
      "21/21 [==============================] - 177s 9s/step - loss: 0.4751 - categorical_accuracy: 0.8341 - val_loss: 3.2664 - val_categorical_accuracy: 0.2000 - lr: 0.0010\n",
      "Epoch 5/30\n",
      "21/21 [==============================] - ETA: 0s - loss: 0.3646 - categorical_accuracy: 0.8627\n",
      "Epoch 00005: val_loss did not improve from 1.61103\n",
      "21/21 [==============================] - 175s 9s/step - loss: 0.3646 - categorical_accuracy: 0.8627 - val_loss: 2.4213 - val_categorical_accuracy: 0.2900 - lr: 0.0010\n",
      "Epoch 6/30\n",
      "21/21 [==============================] - ETA: 0s - loss: 0.2558 - categorical_accuracy: 0.9351\n",
      "Epoch 00006: val_loss did not improve from 1.61103\n",
      "\n",
      "Epoch 00006: ReduceLROnPlateau reducing learning rate to 0.00010000000474974513.\n",
      "21/21 [==============================] - 171s 9s/step - loss: 0.2558 - categorical_accuracy: 0.9351 - val_loss: 3.1059 - val_categorical_accuracy: 0.2200 - lr: 0.0010\n",
      "Epoch 7/30\n",
      "21/21 [==============================] - ETA: 0s - loss: 0.2340 - categorical_accuracy: 0.9306\n",
      "Epoch 00007: val_loss did not improve from 1.61103\n",
      "21/21 [==============================] - 169s 8s/step - loss: 0.2340 - categorical_accuracy: 0.9306 - val_loss: 2.7691 - val_categorical_accuracy: 0.2400 - lr: 1.0000e-04\n",
      "Epoch 8/30\n",
      "21/21 [==============================] - ETA: 0s - loss: 0.1705 - categorical_accuracy: 0.9548\n",
      "Epoch 00008: val_loss did not improve from 1.61103\n",
      "21/21 [==============================] - 161s 8s/step - loss: 0.1705 - categorical_accuracy: 0.9548 - val_loss: 2.1616 - val_categorical_accuracy: 0.3200 - lr: 1.0000e-04\n",
      "Epoch 9/30\n",
      "21/21 [==============================] - ETA: 0s - loss: 0.1922 - categorical_accuracy: 0.9442\n",
      "Epoch 00009: val_loss did not improve from 1.61103\n",
      "\n",
      "Epoch 00009: ReduceLROnPlateau reducing learning rate to 0.0001.\n",
      "21/21 [==============================] - 164s 8s/step - loss: 0.1922 - categorical_accuracy: 0.9442 - val_loss: 2.0947 - val_categorical_accuracy: 0.3400 - lr: 1.0000e-04\n",
      "Epoch 10/30\n",
      "21/21 [==============================] - ETA: 0s - loss: 0.1652 - categorical_accuracy: 0.9593\n",
      "Epoch 00010: val_loss did not improve from 1.61103\n",
      "21/21 [==============================] - 161s 8s/step - loss: 0.1652 - categorical_accuracy: 0.9593 - val_loss: 1.8518 - val_categorical_accuracy: 0.3900 - lr: 1.0000e-04\n",
      "Epoch 11/30\n",
      "21/21 [==============================] - ETA: 0s - loss: 0.1369 - categorical_accuracy: 0.9683\n",
      "Epoch 00011: val_loss did not improve from 1.61103\n",
      "21/21 [==============================] - 187s 9s/step - loss: 0.1369 - categorical_accuracy: 0.9683 - val_loss: 2.0357 - val_categorical_accuracy: 0.3900 - lr: 1.0000e-04\n",
      "Epoch 12/30\n",
      "21/21 [==============================] - ETA: 0s - loss: 0.1167 - categorical_accuracy: 0.9759\n",
      "Epoch 00012: val_loss did not improve from 1.61103\n",
      "21/21 [==============================] - 191s 10s/step - loss: 0.1167 - categorical_accuracy: 0.9759 - val_loss: 1.8711 - val_categorical_accuracy: 0.4100 - lr: 1.0000e-04\n",
      "Epoch 13/30\n",
      "21/21 [==============================] - ETA: 0s - loss: 0.1085 - categorical_accuracy: 0.9819\n",
      "Epoch 00013: val_loss did not improve from 1.61103\n",
      "21/21 [==============================] - 193s 10s/step - loss: 0.1085 - categorical_accuracy: 0.9819 - val_loss: 1.6694 - val_categorical_accuracy: 0.4200 - lr: 1.0000e-04\n",
      "Epoch 14/30\n",
      "21/21 [==============================] - ETA: 0s - loss: 0.0987 - categorical_accuracy: 0.9849\n",
      "Epoch 00014: val_loss improved from 1.61103 to 1.42391, saving model to model_conv3D_2_2024-09-0305_55_43.766329/model-00014-0.09867-0.98492-1.42391-0.45000.h5\n",
      "21/21 [==============================] - 186s 9s/step - loss: 0.0987 - categorical_accuracy: 0.9849 - val_loss: 1.4239 - val_categorical_accuracy: 0.4500 - lr: 1.0000e-04\n",
      "Epoch 15/30\n",
      "21/21 [==============================] - ETA: 0s - loss: 0.1125 - categorical_accuracy: 0.9789\n",
      "Epoch 00015: val_loss did not improve from 1.42391\n",
      "21/21 [==============================] - 200s 10s/step - loss: 0.1125 - categorical_accuracy: 0.9789 - val_loss: 1.4280 - val_categorical_accuracy: 0.5400 - lr: 1.0000e-04\n",
      "Epoch 16/30\n",
      "21/21 [==============================] - ETA: 0s - loss: 0.0922 - categorical_accuracy: 0.9819\n",
      "Epoch 00016: val_loss improved from 1.42391 to 1.30111, saving model to model_conv3D_2_2024-09-0305_55_43.766329/model-00016-0.09218-0.98190-1.30111-0.49000.h5\n",
      "21/21 [==============================] - 193s 10s/step - loss: 0.0922 - categorical_accuracy: 0.9819 - val_loss: 1.3011 - val_categorical_accuracy: 0.4900 - lr: 1.0000e-04\n",
      "Epoch 17/30\n",
      "21/21 [==============================] - ETA: 0s - loss: 0.0934 - categorical_accuracy: 0.9834\n",
      "Epoch 00017: val_loss improved from 1.30111 to 1.18539, saving model to model_conv3D_2_2024-09-0305_55_43.766329/model-00017-0.09343-0.98341-1.18539-0.49000.h5\n",
      "21/21 [==============================] - 199s 10s/step - loss: 0.0934 - categorical_accuracy: 0.9834 - val_loss: 1.1854 - val_categorical_accuracy: 0.4900 - lr: 1.0000e-04\n",
      "Epoch 18/30\n",
      "21/21 [==============================] - ETA: 0s - loss: 0.0834 - categorical_accuracy: 0.9879\n",
      "Epoch 00018: val_loss improved from 1.18539 to 1.13882, saving model to model_conv3D_2_2024-09-0305_55_43.766329/model-00018-0.08339-0.98793-1.13882-0.55000.h5\n",
      "21/21 [==============================] - 205s 10s/step - loss: 0.0834 - categorical_accuracy: 0.9879 - val_loss: 1.1388 - val_categorical_accuracy: 0.5500 - lr: 1.0000e-04\n",
      "Epoch 19/30\n",
      "21/21 [==============================] - ETA: 0s - loss: 0.0651 - categorical_accuracy: 0.9955\n",
      "Epoch 00019: val_loss improved from 1.13882 to 1.05314, saving model to model_conv3D_2_2024-09-0305_55_43.766329/model-00019-0.06506-0.99548-1.05314-0.62000.h5\n",
      "21/21 [==============================] - 203s 10s/step - loss: 0.0651 - categorical_accuracy: 0.9955 - val_loss: 1.0531 - val_categorical_accuracy: 0.6200 - lr: 1.0000e-04\n",
      "Epoch 20/30\n",
      "21/21 [==============================] - ETA: 0s - loss: 0.0661 - categorical_accuracy: 0.9955\n",
      "Epoch 00020: val_loss did not improve from 1.05314\n",
      "21/21 [==============================] - 191s 10s/step - loss: 0.0661 - categorical_accuracy: 0.9955 - val_loss: 1.1179 - val_categorical_accuracy: 0.6100 - lr: 1.0000e-04\n",
      "Epoch 21/30\n",
      "21/21 [==============================] - ETA: 0s - loss: 0.0659 - categorical_accuracy: 0.9910\n",
      "Epoch 00021: val_loss improved from 1.05314 to 0.96012, saving model to model_conv3D_2_2024-09-0305_55_43.766329/model-00021-0.06592-0.99095-0.96012-0.61000.h5\n",
      "21/21 [==============================] - 192s 10s/step - loss: 0.0659 - categorical_accuracy: 0.9910 - val_loss: 0.9601 - val_categorical_accuracy: 0.6100 - lr: 1.0000e-04\n",
      "Epoch 22/30\n",
      "21/21 [==============================] - ETA: 0s - loss: 0.0603 - categorical_accuracy: 0.9910\n",
      "Epoch 00022: val_loss improved from 0.96012 to 0.90332, saving model to model_conv3D_2_2024-09-0305_55_43.766329/model-00022-0.06026-0.99095-0.90332-0.68000.h5\n",
      "21/21 [==============================] - 186s 9s/step - loss: 0.0603 - categorical_accuracy: 0.9910 - val_loss: 0.9033 - val_categorical_accuracy: 0.6800 - lr: 1.0000e-04\n",
      "Epoch 23/30\n",
      "21/21 [==============================] - ETA: 0s - loss: 0.0657 - categorical_accuracy: 0.9940\n",
      "Epoch 00023: val_loss improved from 0.90332 to 0.83290, saving model to model_conv3D_2_2024-09-0305_55_43.766329/model-00023-0.06568-0.99397-0.83290-0.73000.h5\n",
      "21/21 [==============================] - 195s 10s/step - loss: 0.0657 - categorical_accuracy: 0.9940 - val_loss: 0.8329 - val_categorical_accuracy: 0.7300 - lr: 1.0000e-04\n",
      "Epoch 24/30\n",
      "21/21 [==============================] - ETA: 0s - loss: 0.0714 - categorical_accuracy: 0.9864\n",
      "Epoch 00024: val_loss did not improve from 0.83290\n",
      "21/21 [==============================] - 173s 9s/step - loss: 0.0714 - categorical_accuracy: 0.9864 - val_loss: 0.9496 - val_categorical_accuracy: 0.6300 - lr: 1.0000e-04\n",
      "Epoch 25/30\n",
      "21/21 [==============================] - ETA: 0s - loss: 0.0529 - categorical_accuracy: 0.9955\n",
      "Epoch 00025: val_loss did not improve from 0.83290\n",
      "21/21 [==============================] - 180s 9s/step - loss: 0.0529 - categorical_accuracy: 0.9955 - val_loss: 0.9030 - val_categorical_accuracy: 0.6600 - lr: 1.0000e-04\n",
      "Epoch 26/30\n",
      "21/21 [==============================] - ETA: 0s - loss: 0.0560 - categorical_accuracy: 0.9940\n",
      "Epoch 00026: val_loss improved from 0.83290 to 0.80065, saving model to model_conv3D_2_2024-09-0305_55_43.766329/model-00026-0.05605-0.99397-0.80065-0.71000.h5\n",
      "21/21 [==============================] - 181s 9s/step - loss: 0.0560 - categorical_accuracy: 0.9940 - val_loss: 0.8007 - val_categorical_accuracy: 0.7100 - lr: 1.0000e-04\n",
      "Epoch 27/30\n",
      "21/21 [==============================] - ETA: 0s - loss: 0.0574 - categorical_accuracy: 0.9955\n",
      "Epoch 00027: val_loss did not improve from 0.80065\n",
      "21/21 [==============================] - 180s 9s/step - loss: 0.0574 - categorical_accuracy: 0.9955 - val_loss: 0.9492 - val_categorical_accuracy: 0.6800 - lr: 1.0000e-04\n",
      "Epoch 28/30\n",
      "21/21 [==============================] - ETA: 0s - loss: 0.0506 - categorical_accuracy: 0.9970\n",
      "Epoch 00028: val_loss did not improve from 0.80065\n",
      "21/21 [==============================] - 174s 9s/step - loss: 0.0506 - categorical_accuracy: 0.9970 - val_loss: 0.9805 - val_categorical_accuracy: 0.6600 - lr: 1.0000e-04\n",
      "Epoch 29/30\n",
      "21/21 [==============================] - ETA: 0s - loss: 0.0431 - categorical_accuracy: 0.9985\n",
      "Epoch 00029: val_loss improved from 0.80065 to 0.74298, saving model to model_conv3D_2_2024-09-0305_55_43.766329/model-00029-0.04306-0.99849-0.74298-0.71000.h5\n",
      "21/21 [==============================] - 188s 9s/step - loss: 0.0431 - categorical_accuracy: 0.9985 - val_loss: 0.7430 - val_categorical_accuracy: 0.7100 - lr: 1.0000e-04\n",
      "Epoch 30/30\n",
      "21/21 [==============================] - ETA: 0s - loss: 0.0422 - categorical_accuracy: 0.9955\n",
      "Epoch 00030: val_loss did not improve from 0.74298\n",
      "21/21 [==============================] - 188s 9s/step - loss: 0.0422 - categorical_accuracy: 0.9955 - val_loss: 0.7948 - val_categorical_accuracy: 0.7800 - lr: 1.0000e-04\n"
     ]
    }
   ],
   "source": [
    "model2_history = model2.fit(train_generator, steps_per_epoch=steps_per_epoch, epochs=num_epochs, verbose=1, \n",
    "                              callbacks=callbacks_list, validation_data=val_generator, \n",
    "                              validation_steps=validation_steps, class_weight=None, initial_epoch=0)"
   ]
  },
  {
   "cell_type": "code",
   "execution_count": 19,
   "metadata": {},
   "outputs": [
    {
     "name": "stdout",
     "output_type": "stream",
     "text": [
      "dict_keys(['loss', 'categorical_accuracy', 'val_loss', 'val_categorical_accuracy', 'lr'])\n"
     ]
    },
    {
     "data": {
      "image/png": "[encoded data removed]",
      "text/plain": [
       "<Figure size 432x288 with 1 Axes>"
      ]
     },
     "metadata": {
      "needs_background": "light"
     },
     "output_type": "display_data"
    },
    {
     "data": {
      "image/png": "[encoded data removed]",
      "text/plain": [
       "<Figure size 432x288 with 1 Axes>"
      ]
     },
     "metadata": {
      "needs_background": "light"
     },
     "output_type": "display_data"
    },
    {
     "name": "stdout",
     "output_type": "stream",
     "text": [
      "Max. Training Accuracy 0.9984917044639587\n",
      "Max. Validaiton Accuracy 0.7799999713897705\n"
     ]
    }
   ],
   "source": [
    "plot_loss_accuracy(model2_history)"
   ]
  },
  {
   "cell_type": "markdown",
   "metadata": {},
   "source": [
    "### Model 3: Frames-30, Epocs-20, Base size-32, Reduced parameters"
   ]
  },
  {
   "cell_type": "code",
   "execution_count": 20,
   "metadata": {},
   "outputs": [
    {
     "name": "stdout",
     "output_type": "stream",
     "text": [
      "# epochs = 20\n",
      "# batch size = 32\n",
      "# num_frames per video = 30\n",
      "Model: \"conv_3d3\"\n",
      "_________________________________________________________________\n",
      " Layer (type)                Output Shape              Param #   \n",
      "=================================================================\n",
      " conv3d_6 (Conv3D)           (None, 30, 160, 160, 16)  1312      \n",
      "                                                                 \n",
      " max_pooling3d_6 (MaxPooling  (None, 15, 80, 80, 16)   0         \n",
      " 3D)                                                             \n",
      "                                                                 \n",
      " batch_normalization_10 (Bat  (None, 15, 80, 80, 16)   64        \n",
      " chNormalization)                                                \n",
      "                                                                 \n",
      " conv3d_7 (Conv3D)           (None, 15, 80, 80, 32)    13856     \n",
      "                                                                 \n",
      " max_pooling3d_7 (MaxPooling  (None, 8, 40, 40, 32)    0         \n",
      " 3D)                                                             \n",
      "                                                                 \n",
      " batch_normalization_11 (Bat  (None, 8, 40, 40, 32)    128       \n",
      " chNormalization)                                                \n",
      "                                                                 \n",
      " conv3d_8 (Conv3D)           (None, 8, 40, 40, 64)     55360     \n",
      "                                                                 \n",
      " max_pooling3d_8 (MaxPooling  (None, 4, 20, 20, 64)    0         \n",
      " 3D)                                                             \n",
      "                                                                 \n",
      " batch_normalization_12 (Bat  (None, 4, 20, 20, 64)    256       \n",
      " chNormalization)                                                \n",
      "                                                                 \n",
      " flatten_2 (Flatten)         (None, 102400)            0         \n",
      "                                                                 \n",
      " dense_6 (Dense)             (None, 128)               13107328  \n",
      "                                                                 \n",
      " batch_normalization_13 (Bat  (None, 128)              512       \n",
      " chNormalization)                                                \n",
      "                                                                 \n",
      " dropout_4 (Dropout)         (None, 128)               0         \n",
      "                                                                 \n",
      " dense_7 (Dense)             (None, 64)                8256      \n",
      "                                                                 \n",
      " batch_normalization_14 (Bat  (None, 64)               256       \n",
      " chNormalization)                                                \n",
      "                                                                 \n",
      " dropout_5 (Dropout)         (None, 64)                0         \n",
      "                                                                 \n",
      " dense_8 (Dense)             (None, 5)                 325       \n",
      "                                                                 \n",
      "=================================================================\n",
      "Total params: 13,187,653\n",
      "Trainable params: 13,187,045\n",
      "Non-trainable params: 608\n",
      "_________________________________________________________________\n",
      "None\n"
     ]
    }
   ],
   "source": [
    "num_epochs = 20 # choose the number of epochs\n",
    "print ('# epochs =', num_epochs)\n",
    "batch_size = 32  #experiment with the batch size\n",
    "print ('# batch size =', batch_size)\n",
    "num_frames = 30\n",
    "print ('# num_frames per video =', num_frames)\n",
    "num_images = num_frames\n",
    "height = 160\n",
    "width = 160\n",
    "\n",
    "\n",
    "model3 = Sequential([\n",
    "    Conv3D(16, make3dFilter(3), padding='same', activation='relu', input_shape=(num_images, height, width, 3)),\n",
    "    MaxPooling3D(make3dFilter(2), padding='same'),\n",
    "    BatchNormalization(),\n",
    "\n",
    "    Conv3D(32, make3dFilter(3), padding='same', activation='relu'),\n",
    "    MaxPooling3D(pool_size=(2), padding='same'),\n",
    "    BatchNormalization(),\n",
    "\n",
    "    Conv3D(64, make3dFilter(3), padding='same', activation='relu'),\n",
    "    MaxPooling3D(pool_size=(2), padding='same'),\n",
    "    BatchNormalization(),\n",
    "\n",
    "    Flatten(),\n",
    "    Dense(128, activation='relu'),\n",
    "    BatchNormalization(),\n",
    "    Dropout(0.25),\n",
    "\n",
    "    Dense(64, activation='relu'),\n",
    "    BatchNormalization(),\n",
    "    Dropout(0.25),\n",
    "\n",
    "    Dense(5, activation='softmax')\n",
    "], name=\"conv_3d3\")\n",
    "\n",
    "optimizer = tf.keras.optimizers.Adam() #write your optimizer\n",
    "model3.compile(optimizer=optimizer, loss='categorical_crossentropy', metrics=['categorical_accuracy'])\n",
    "\n",
    "print(model3.summary())"
   ]
  },
  {
   "cell_type": "code",
   "execution_count": 21,
   "metadata": {},
   "outputs": [
    {
     "name": "stdout",
     "output_type": "stream",
     "text": [
      "WARNING:tensorflow:`period` argument is deprecated. Please use `save_freq` to specify the frequency in number of batches seen.\n"
     ]
    }
   ],
   "source": [
    "callbacks_list = model_callbacks(\"model_conv3D_3\")\n",
    "\n",
    "steps_per_epoch, validation_steps = calculate_steps(num_train_sequences, num_val_sequences, batch_size)\n",
    "\n",
    "train_generator = generate(train_path, train_doc, batch_size, num_images=num_frames, height=160, width=160)\n",
    "\n",
    "val_generator   = generate(val_path, val_doc, batch_size, num_images=num_frames, height=160, width=160)"
   ]
  },
  {
   "cell_type": "code",
   "execution_count": 22,
   "metadata": {},
   "outputs": [
    {
     "name": "stdout",
     "output_type": "stream",
     "text": [
      "Epoch 1/20\n",
      "21/21 [==============================] - ETA: 0s - loss: 1.5899 - categorical_accuracy: 0.4389\n",
      "Epoch 00001: val_loss improved from inf to 2.78303, saving model to model_conv3D_3_2024-09-0305_55_43.766329/model-00001-1.58987-0.43891-2.78303-0.21000.h5\n",
      "21/21 [==============================] - 215s 10s/step - loss: 1.5899 - categorical_accuracy: 0.4389 - val_loss: 2.7830 - val_categorical_accuracy: 0.2100 - lr: 0.0010\n",
      "Epoch 2/20\n",
      "21/21 [==============================] - ETA: 0s - loss: 0.9013 - categorical_accuracy: 0.6531\n",
      "Epoch 00002: val_loss did not improve from 2.78303\n",
      "21/21 [==============================] - 215s 11s/step - loss: 0.9013 - categorical_accuracy: 0.6531 - val_loss: 4.2174 - val_categorical_accuracy: 0.1500 - lr: 0.0010\n",
      "Epoch 3/20\n",
      "21/21 [==============================] - ETA: 0s - loss: 0.6392 - categorical_accuracy: 0.7647\n",
      "Epoch 00003: val_loss improved from 2.78303 to 2.69835, saving model to model_conv3D_3_2024-09-0305_55_43.766329/model-00003-0.63925-0.76471-2.69835-0.26000.h5\n",
      "21/21 [==============================] - 214s 11s/step - loss: 0.6392 - categorical_accuracy: 0.7647 - val_loss: 2.6984 - val_categorical_accuracy: 0.2600 - lr: 0.0010\n",
      "Epoch 4/20\n",
      "21/21 [==============================] - ETA: 0s - loss: 0.5239 - categorical_accuracy: 0.8084\n",
      "Epoch 00004: val_loss did not improve from 2.69835\n",
      "21/21 [==============================] - 205s 10s/step - loss: 0.5239 - categorical_accuracy: 0.8084 - val_loss: 2.7457 - val_categorical_accuracy: 0.2400 - lr: 0.0010\n",
      "Epoch 5/20\n",
      "21/21 [==============================] - ETA: 0s - loss: 0.3758 - categorical_accuracy: 0.8763\n",
      "Epoch 00005: val_loss did not improve from 2.69835\n",
      "21/21 [==============================] - 215s 11s/step - loss: 0.3758 - categorical_accuracy: 0.8763 - val_loss: 2.7700 - val_categorical_accuracy: 0.3200 - lr: 0.0010\n",
      "Epoch 6/20\n",
      "21/21 [==============================] - ETA: 0s - loss: 0.2835 - categorical_accuracy: 0.9005\n",
      "Epoch 00006: val_loss did not improve from 2.69835\n",
      "\n",
      "Epoch 00006: ReduceLROnPlateau reducing learning rate to 0.00010000000474974513.\n",
      "21/21 [==============================] - 221s 11s/step - loss: 0.2835 - categorical_accuracy: 0.9005 - val_loss: 3.0017 - val_categorical_accuracy: 0.2400 - lr: 0.0010\n",
      "Epoch 7/20\n",
      "21/21 [==============================] - ETA: 0s - loss: 0.2104 - categorical_accuracy: 0.9412\n",
      "Epoch 00007: val_loss did not improve from 2.69835\n",
      "21/21 [==============================] - 216s 11s/step - loss: 0.2104 - categorical_accuracy: 0.9412 - val_loss: 3.3489 - val_categorical_accuracy: 0.2100 - lr: 1.0000e-04\n",
      "Epoch 8/20\n",
      "21/21 [==============================] - ETA: 0s - loss: 0.1733 - categorical_accuracy: 0.9608\n",
      "Epoch 00008: val_loss did not improve from 2.69835\n",
      "21/21 [==============================] - 192s 10s/step - loss: 0.1733 - categorical_accuracy: 0.9608 - val_loss: 3.3431 - val_categorical_accuracy: 0.2200 - lr: 1.0000e-04\n",
      "Epoch 9/20\n",
      "21/21 [==============================] - ETA: 0s - loss: 0.1658 - categorical_accuracy: 0.9578\n",
      "Epoch 00009: val_loss did not improve from 2.69835\n",
      "\n",
      "Epoch 00009: ReduceLROnPlateau reducing learning rate to 0.0001.\n",
      "21/21 [==============================] - 191s 10s/step - loss: 0.1658 - categorical_accuracy: 0.9578 - val_loss: 3.2827 - val_categorical_accuracy: 0.2200 - lr: 1.0000e-04\n",
      "Epoch 10/20\n",
      "21/21 [==============================] - ETA: 0s - loss: 0.1416 - categorical_accuracy: 0.9713\n",
      "Epoch 00010: val_loss did not improve from 2.69835\n",
      "21/21 [==============================] - 188s 9s/step - loss: 0.1416 - categorical_accuracy: 0.9713 - val_loss: 3.0497 - val_categorical_accuracy: 0.3300 - lr: 1.0000e-04\n",
      "Epoch 11/20\n",
      "21/21 [==============================] - ETA: 0s - loss: 0.1312 - categorical_accuracy: 0.9683\n",
      "Epoch 00011: val_loss did not improve from 2.69835\n",
      "21/21 [==============================] - 183s 9s/step - loss: 0.1312 - categorical_accuracy: 0.9683 - val_loss: 3.1575 - val_categorical_accuracy: 0.3200 - lr: 1.0000e-04\n",
      "Epoch 12/20\n",
      "21/21 [==============================] - ETA: 0s - loss: 0.1224 - categorical_accuracy: 0.9819\n",
      "Epoch 00012: val_loss did not improve from 2.69835\n",
      "21/21 [==============================] - 173s 9s/step - loss: 0.1224 - categorical_accuracy: 0.9819 - val_loss: 3.5418 - val_categorical_accuracy: 0.2600 - lr: 1.0000e-04\n",
      "Epoch 13/20\n",
      "21/21 [==============================] - ETA: 0s - loss: 0.1217 - categorical_accuracy: 0.9683\n",
      "Epoch 00013: val_loss did not improve from 2.69835\n",
      "21/21 [==============================] - 178s 9s/step - loss: 0.1217 - categorical_accuracy: 0.9683 - val_loss: 3.2543 - val_categorical_accuracy: 0.3100 - lr: 1.0000e-04\n",
      "Epoch 14/20\n",
      "21/21 [==============================] - ETA: 0s - loss: 0.1148 - categorical_accuracy: 0.9804\n",
      "Epoch 00014: val_loss did not improve from 2.69835\n",
      "21/21 [==============================] - 178s 9s/step - loss: 0.1148 - categorical_accuracy: 0.9804 - val_loss: 3.3175 - val_categorical_accuracy: 0.3000 - lr: 1.0000e-04\n",
      "Epoch 15/20\n",
      "21/21 [==============================] - ETA: 0s - loss: 0.0988 - categorical_accuracy: 0.9864\n",
      "Epoch 00015: val_loss did not improve from 2.69835\n",
      "21/21 [==============================] - 172s 9s/step - loss: 0.0988 - categorical_accuracy: 0.9864 - val_loss: 3.2192 - val_categorical_accuracy: 0.2800 - lr: 1.0000e-04\n",
      "Epoch 16/20\n",
      "21/21 [==============================] - ETA: 0s - loss: 0.0977 - categorical_accuracy: 0.9834\n",
      "Epoch 00016: val_loss did not improve from 2.69835\n",
      "21/21 [==============================] - 169s 8s/step - loss: 0.0977 - categorical_accuracy: 0.9834 - val_loss: 3.3183 - val_categorical_accuracy: 0.2800 - lr: 1.0000e-04\n",
      "Epoch 17/20\n",
      "21/21 [==============================] - ETA: 0s - loss: 0.0925 - categorical_accuracy: 0.9819\n",
      "Epoch 00017: val_loss did not improve from 2.69835\n",
      "21/21 [==============================] - 178s 9s/step - loss: 0.0925 - categorical_accuracy: 0.9819 - val_loss: 3.1302 - val_categorical_accuracy: 0.2900 - lr: 1.0000e-04\n",
      "Epoch 18/20\n",
      "21/21 [==============================] - ETA: 0s - loss: 0.0871 - categorical_accuracy: 0.9864\n",
      "Epoch 00018: val_loss did not improve from 2.69835\n",
      "21/21 [==============================] - 179s 9s/step - loss: 0.0871 - categorical_accuracy: 0.9864 - val_loss: 2.9596 - val_categorical_accuracy: 0.3600 - lr: 1.0000e-04\n",
      "Epoch 19/20\n",
      "21/21 [==============================] - ETA: 0s - loss: 0.0844 - categorical_accuracy: 0.9894\n",
      "Epoch 00019: val_loss did not improve from 2.69835\n",
      "21/21 [==============================] - 175s 9s/step - loss: 0.0844 - categorical_accuracy: 0.9894 - val_loss: 3.1133 - val_categorical_accuracy: 0.2700 - lr: 1.0000e-04\n",
      "Epoch 20/20\n",
      "21/21 [==============================] - ETA: 0s - loss: 0.0960 - categorical_accuracy: 0.9759\n",
      "Epoch 00020: val_loss improved from 2.69835 to 2.62686, saving model to model_conv3D_3_2024-09-0305_55_43.766329/model-00020-0.09596-0.97587-2.62686-0.34000.h5\n",
      "21/21 [==============================] - 168s 8s/step - loss: 0.0960 - categorical_accuracy: 0.9759 - val_loss: 2.6269 - val_categorical_accuracy: 0.3400 - lr: 1.0000e-04\n"
     ]
    }
   ],
   "source": [
    "model3_history = model3.fit(train_generator, steps_per_epoch=steps_per_epoch, epochs=num_epochs, verbose=1, \n",
    "                              callbacks=callbacks_list, validation_data=val_generator, \n",
    "                              validation_steps=validation_steps, class_weight=None, initial_epoch=0)"
   ]
  },
  {
   "cell_type": "code",
   "execution_count": 23,
   "metadata": {},
   "outputs": [
    {
     "name": "stdout",
     "output_type": "stream",
     "text": [
      "dict_keys(['loss', 'categorical_accuracy', 'val_loss', 'val_categorical_accuracy', 'lr'])\n"
     ]
    },
    {
     "data": {
      "image/png": "[encoded data removed]",
      "text/plain": [
       "<Figure size 432x288 with 1 Axes>"
      ]
     },
     "metadata": {
      "needs_background": "light"
     },
     "output_type": "display_data"
    },
    {
     "data": {
      "image/png": "[encoded data removed]",
      "text/plain": [
       "<Figure size 432x288 with 1 Axes>"
      ]
     },
     "metadata": {
      "needs_background": "light"
     },
     "output_type": "display_data"
    },
    {
     "name": "stdout",
     "output_type": "stream",
     "text": [
      "Max. Training Accuracy 0.9894419312477112\n",
      "Max. Validaiton Accuracy 0.36000001430511475\n"
     ]
    }
   ],
   "source": [
    "plot_loss_accuracy(model3_history)"
   ]
  },
  {
   "cell_type": "markdown",
   "metadata": {},
   "source": [
    "### Model 4: Frames-20, Base size-32, Same pooling in Conv3D layer"
   ]
  },
  {
   "cell_type": "code",
   "execution_count": 24,
   "metadata": {},
   "outputs": [
    {
     "name": "stdout",
     "output_type": "stream",
     "text": [
      "# epochs = 30\n",
      "# batch size = 32\n",
      "# num_frames per video = 20\n",
      "Model: \"conv_3d4\"\n",
      "_________________________________________________________________\n",
      " Layer (type)                Output Shape              Param #   \n",
      "=================================================================\n",
      " conv3d_9 (Conv3D)           (None, 20, 120, 120, 16)  1312      \n",
      "                                                                 \n",
      " max_pooling3d_9 (MaxPooling  (None, 10, 60, 60, 16)   0         \n",
      " 3D)                                                             \n",
      "                                                                 \n",
      " batch_normalization_15 (Bat  (None, 10, 60, 60, 16)   64        \n",
      " chNormalization)                                                \n",
      "                                                                 \n",
      " conv3d_10 (Conv3D)          (None, 10, 60, 60, 32)    13856     \n",
      "                                                                 \n",
      " max_pooling3d_10 (MaxPoolin  (None, 5, 30, 30, 32)    0         \n",
      " g3D)                                                            \n",
      "                                                                 \n",
      " batch_normalization_16 (Bat  (None, 5, 30, 30, 32)    128       \n",
      " chNormalization)                                                \n",
      "                                                                 \n",
      " conv3d_11 (Conv3D)          (None, 5, 30, 30, 64)     55360     \n",
      "                                                                 \n",
      " max_pooling3d_11 (MaxPoolin  (None, 3, 15, 15, 64)    0         \n",
      " g3D)                                                            \n",
      "                                                                 \n",
      " batch_normalization_17 (Bat  (None, 3, 15, 15, 64)    256       \n",
      " chNormalization)                                                \n",
      "                                                                 \n",
      " conv3d_12 (Conv3D)          (None, 3, 15, 15, 128)    221312    \n",
      "                                                                 \n",
      " max_pooling3d_12 (MaxPoolin  (None, 2, 8, 8, 128)     0         \n",
      " g3D)                                                            \n",
      "                                                                 \n",
      " batch_normalization_18 (Bat  (None, 2, 8, 8, 128)     512       \n",
      " chNormalization)                                                \n",
      "                                                                 \n",
      " flatten_3 (Flatten)         (None, 16384)             0         \n",
      "                                                                 \n",
      " dense_9 (Dense)             (None, 128)               2097280   \n",
      "                                                                 \n",
      " batch_normalization_19 (Bat  (None, 128)              512       \n",
      " chNormalization)                                                \n",
      "                                                                 \n",
      " dropout_6 (Dropout)         (None, 128)               0         \n",
      "                                                                 \n",
      " dense_10 (Dense)            (None, 64)                8256      \n",
      "                                                                 \n",
      " batch_normalization_20 (Bat  (None, 64)               256       \n",
      " chNormalization)                                                \n",
      "                                                                 \n",
      " dropout_7 (Dropout)         (None, 64)                0         \n",
      "                                                                 \n",
      " dense_11 (Dense)            (None, 5)                 325       \n",
      "                                                                 \n",
      "=================================================================\n",
      "Total params: 2,399,429\n",
      "Trainable params: 2,398,565\n",
      "Non-trainable params: 864\n",
      "_________________________________________________________________\n",
      "None\n"
     ]
    }
   ],
   "source": [
    "num_epochs = 30 # choose the number of epochs\n",
    "print ('# epochs =', num_epochs)\n",
    "batch_size = 32  #experiment with the batch size\n",
    "print ('# batch size =', batch_size)\n",
    "num_frames = 20\n",
    "print ('# num_frames per video =', num_frames)\n",
    "num_images = num_frames\n",
    "height = 120\n",
    "width = 120\n",
    "\n",
    "model4 = Sequential([\n",
    "    Conv3D(16, make3dFilter(3), padding='same', activation='relu', input_shape=(num_images, height, width, 3)),\n",
    "    MaxPooling3D(make3dFilter(2), padding='same'),\n",
    "    BatchNormalization(),\n",
    "\n",
    "    Conv3D(32, make3dFilter(3), padding='same', activation='relu'),\n",
    "    MaxPooling3D(pool_size=(2), padding='same'),\n",
    "    BatchNormalization(),\n",
    "\n",
    "    Conv3D(64, make3dFilter(3), padding='same', activation='relu'),\n",
    "    MaxPooling3D(pool_size=(2), padding='same'),\n",
    "    BatchNormalization(),\n",
    "\n",
    "    Conv3D(128, make3dFilter(3), padding='same', activation='relu'),\n",
    "    MaxPooling3D(pool_size=(2), padding='same'),\n",
    "    BatchNormalization(),\n",
    "\n",
    "    Flatten(),\n",
    "    Dense(128, activation='relu'),\n",
    "    BatchNormalization(),\n",
    "    Dropout(0.25),\n",
    "\n",
    "    Dense(64, activation='relu'),\n",
    "    BatchNormalization(),\n",
    "    Dropout(0.25),\n",
    "\n",
    "    Dense(5, activation='softmax')\n",
    "], name=\"conv_3d4\")\n",
    "\n",
    "optimizer = tf.keras.optimizers.Adam() #write your optimizer\n",
    "model4.compile(optimizer=optimizer, loss='categorical_crossentropy', metrics=['categorical_accuracy'])\n",
    "\n",
    "print(model4.summary())"
   ]
  },
  {
   "cell_type": "code",
   "execution_count": 25,
   "metadata": {},
   "outputs": [
    {
     "name": "stdout",
     "output_type": "stream",
     "text": [
      "WARNING:tensorflow:`period` argument is deprecated. Please use `save_freq` to specify the frequency in number of batches seen.\n"
     ]
    }
   ],
   "source": [
    "callbacks_list = model_callbacks(\"model_conv3D_4\")\n",
    "\n",
    "steps_per_epoch, validation_steps = calculate_steps(num_train_sequences, num_val_sequences, batch_size)\n",
    "\n",
    "train_generator = generate(train_path, train_doc, batch_size, augment=True, num_images=num_frames)\n",
    "\n",
    "val_generator   = generate(val_path, val_doc, batch_size, num_images=num_frames)"
   ]
  },
  {
   "cell_type": "code",
   "execution_count": 26,
   "metadata": {},
   "outputs": [
    {
     "name": "stdout",
     "output_type": "stream",
     "text": [
      "Epoch 1/30\n",
      "21/21 [==============================] - ETA: 0s - loss: 1.7364 - categorical_accuracy: 0.4314\n",
      "Epoch 00001: val_loss improved from inf to 1.75053, saving model to model_conv3D_4_2024-09-0305_55_43.766329/model-00001-1.73635-0.43137-1.75053-0.19000.h5\n",
      "21/21 [==============================] - 121s 6s/step - loss: 1.7364 - categorical_accuracy: 0.4314 - val_loss: 1.7505 - val_categorical_accuracy: 0.1900 - lr: 0.0010\n",
      "Epoch 2/30\n",
      "21/21 [==============================] - ETA: 0s - loss: 1.1121 - categorical_accuracy: 0.6018\n",
      "Epoch 00002: val_loss did not improve from 1.75053\n",
      "21/21 [==============================] - 120s 6s/step - loss: 1.1121 - categorical_accuracy: 0.6018 - val_loss: 1.8892 - val_categorical_accuracy: 0.3100 - lr: 0.0010\n",
      "Epoch 3/30\n",
      "21/21 [==============================] - ETA: 0s - loss: 0.9499 - categorical_accuracy: 0.6425\n",
      "Epoch 00003: val_loss did not improve from 1.75053\n",
      "21/21 [==============================] - 121s 6s/step - loss: 0.9499 - categorical_accuracy: 0.6425 - val_loss: 2.1184 - val_categorical_accuracy: 0.2600 - lr: 0.0010\n",
      "Epoch 4/30\n",
      "21/21 [==============================] - ETA: 0s - loss: 0.7760 - categorical_accuracy: 0.7119\n",
      "Epoch 00004: val_loss did not improve from 1.75053\n",
      "\n",
      "Epoch 00004: ReduceLROnPlateau reducing learning rate to 0.00010000000474974513.\n",
      "21/21 [==============================] - 116s 6s/step - loss: 0.7760 - categorical_accuracy: 0.7119 - val_loss: 1.9628 - val_categorical_accuracy: 0.2800 - lr: 0.0010\n",
      "Epoch 5/30\n",
      "21/21 [==============================] - ETA: 0s - loss: 0.6855 - categorical_accuracy: 0.7451\n",
      "Epoch 00005: val_loss did not improve from 1.75053\n",
      "21/21 [==============================] - 133s 7s/step - loss: 0.6855 - categorical_accuracy: 0.7451 - val_loss: 1.9492 - val_categorical_accuracy: 0.2700 - lr: 1.0000e-04\n",
      "Epoch 6/30\n",
      "21/21 [==============================] - ETA: 0s - loss: 0.6074 - categorical_accuracy: 0.7722\n",
      "Epoch 00006: val_loss did not improve from 1.75053\n",
      "21/21 [==============================] - 125s 6s/step - loss: 0.6074 - categorical_accuracy: 0.7722 - val_loss: 1.8315 - val_categorical_accuracy: 0.3000 - lr: 1.0000e-04\n",
      "Epoch 7/30\n",
      "21/21 [==============================] - ETA: 0s - loss: 0.5878 - categorical_accuracy: 0.8024\n",
      "Epoch 00007: val_loss did not improve from 1.75053\n",
      "\n",
      "Epoch 00007: ReduceLROnPlateau reducing learning rate to 0.0001.\n",
      "21/21 [==============================] - 120s 6s/step - loss: 0.5878 - categorical_accuracy: 0.8024 - val_loss: 1.9286 - val_categorical_accuracy: 0.2400 - lr: 1.0000e-04\n",
      "Epoch 8/30\n",
      "21/21 [==============================] - ETA: 0s - loss: 0.5312 - categorical_accuracy: 0.8024\n",
      "Epoch 00008: val_loss did not improve from 1.75053\n",
      "21/21 [==============================] - 116s 6s/step - loss: 0.5312 - categorical_accuracy: 0.8024 - val_loss: 1.9352 - val_categorical_accuracy: 0.2600 - lr: 1.0000e-04\n",
      "Epoch 9/30\n",
      "21/21 [==============================] - ETA: 0s - loss: 0.4922 - categorical_accuracy: 0.8281\n",
      "Epoch 00009: val_loss did not improve from 1.75053\n",
      "21/21 [==============================] - 120s 6s/step - loss: 0.4922 - categorical_accuracy: 0.8281 - val_loss: 1.9264 - val_categorical_accuracy: 0.2500 - lr: 1.0000e-04\n",
      "Epoch 10/30\n",
      "21/21 [==============================] - ETA: 0s - loss: 0.5259 - categorical_accuracy: 0.8084\n",
      "Epoch 00010: val_loss did not improve from 1.75053\n",
      "21/21 [==============================] - 121s 6s/step - loss: 0.5259 - categorical_accuracy: 0.8084 - val_loss: 1.8985 - val_categorical_accuracy: 0.2800 - lr: 1.0000e-04\n",
      "Epoch 11/30\n",
      "21/21 [==============================] - ETA: 0s - loss: 0.4495 - categorical_accuracy: 0.8341\n",
      "Epoch 00011: val_loss did not improve from 1.75053\n",
      "21/21 [==============================] - 119s 6s/step - loss: 0.4495 - categorical_accuracy: 0.8341 - val_loss: 2.0301 - val_categorical_accuracy: 0.2400 - lr: 1.0000e-04\n",
      "Epoch 12/30\n",
      "21/21 [==============================] - ETA: 0s - loss: 0.4371 - categorical_accuracy: 0.8431\n",
      "Epoch 00012: val_loss did not improve from 1.75053\n",
      "21/21 [==============================] - 114s 6s/step - loss: 0.4371 - categorical_accuracy: 0.8431 - val_loss: 2.0269 - val_categorical_accuracy: 0.2400 - lr: 1.0000e-04\n",
      "Epoch 13/30\n",
      "21/21 [==============================] - ETA: 0s - loss: 0.4091 - categorical_accuracy: 0.8612\n",
      "Epoch 00013: val_loss did not improve from 1.75053\n",
      "21/21 [==============================] - 119s 6s/step - loss: 0.4091 - categorical_accuracy: 0.8612 - val_loss: 2.0342 - val_categorical_accuracy: 0.2300 - lr: 1.0000e-04\n",
      "Epoch 14/30\n",
      "21/21 [==============================] - ETA: 0s - loss: 0.4266 - categorical_accuracy: 0.8446\n",
      "Epoch 00014: val_loss did not improve from 1.75053\n",
      "21/21 [==============================] - 122s 6s/step - loss: 0.4266 - categorical_accuracy: 0.8446 - val_loss: 2.0267 - val_categorical_accuracy: 0.2200 - lr: 1.0000e-04\n",
      "Epoch 15/30\n",
      "21/21 [==============================] - ETA: 0s - loss: 0.3539 - categorical_accuracy: 0.8839\n",
      "Epoch 00015: val_loss did not improve from 1.75053\n",
      "21/21 [==============================] - 120s 6s/step - loss: 0.3539 - categorical_accuracy: 0.8839 - val_loss: 1.7547 - val_categorical_accuracy: 0.3500 - lr: 1.0000e-04\n",
      "Epoch 16/30\n",
      "21/21 [==============================] - ETA: 0s - loss: 0.3702 - categorical_accuracy: 0.8793\n",
      "Epoch 00016: val_loss did not improve from 1.75053\n",
      "21/21 [==============================] - 116s 6s/step - loss: 0.3702 - categorical_accuracy: 0.8793 - val_loss: 1.8213 - val_categorical_accuracy: 0.3100 - lr: 1.0000e-04\n",
      "Epoch 17/30\n",
      "21/21 [==============================] - ETA: 0s - loss: 0.3379 - categorical_accuracy: 0.8929\n",
      "Epoch 00017: val_loss did not improve from 1.75053\n",
      "21/21 [==============================] - 121s 6s/step - loss: 0.3379 - categorical_accuracy: 0.8929 - val_loss: 1.7854 - val_categorical_accuracy: 0.3500 - lr: 1.0000e-04\n",
      "Epoch 18/30\n",
      "21/21 [==============================] - ETA: 0s - loss: 0.3095 - categorical_accuracy: 0.8989\n",
      "Epoch 00018: val_loss did not improve from 1.75053\n",
      "21/21 [==============================] - 119s 6s/step - loss: 0.3095 - categorical_accuracy: 0.8989 - val_loss: 1.7512 - val_categorical_accuracy: 0.3700 - lr: 1.0000e-04\n",
      "Epoch 19/30\n",
      "21/21 [==============================] - ETA: 0s - loss: 0.3194 - categorical_accuracy: 0.8974\n",
      "Epoch 00019: val_loss improved from 1.75053 to 1.73623, saving model to model_conv3D_4_2024-09-0305_55_43.766329/model-00019-0.31942-0.89744-1.73623-0.38000.h5\n",
      "21/21 [==============================] - 120s 6s/step - loss: 0.3194 - categorical_accuracy: 0.8974 - val_loss: 1.7362 - val_categorical_accuracy: 0.3800 - lr: 1.0000e-04\n",
      "Epoch 20/30\n",
      "21/21 [==============================] - ETA: 0s - loss: 0.2713 - categorical_accuracy: 0.9155\n",
      "Epoch 00020: val_loss improved from 1.73623 to 1.63117, saving model to model_conv3D_4_2024-09-0305_55_43.766329/model-00020-0.27133-0.91554-1.63117-0.46000.h5\n",
      "21/21 [==============================] - 117s 6s/step - loss: 0.2713 - categorical_accuracy: 0.9155 - val_loss: 1.6312 - val_categorical_accuracy: 0.4600 - lr: 1.0000e-04\n",
      "Epoch 21/30\n",
      "21/21 [==============================] - ETA: 0s - loss: 0.2741 - categorical_accuracy: 0.9050\n",
      "Epoch 00021: val_loss improved from 1.63117 to 1.41151, saving model to model_conv3D_4_2024-09-0305_55_43.766329/model-00021-0.27405-0.90498-1.41151-0.47000.h5\n",
      "21/21 [==============================] - 121s 6s/step - loss: 0.2741 - categorical_accuracy: 0.9050 - val_loss: 1.4115 - val_categorical_accuracy: 0.4700 - lr: 1.0000e-04\n",
      "Epoch 22/30\n",
      "21/21 [==============================] - ETA: 0s - loss: 0.2592 - categorical_accuracy: 0.9110\n",
      "Epoch 00022: val_loss improved from 1.41151 to 1.26731, saving model to model_conv3D_4_2024-09-0305_55_43.766329/model-00022-0.25915-0.91101-1.26731-0.51000.h5\n",
      "21/21 [==============================] - 121s 6s/step - loss: 0.2592 - categorical_accuracy: 0.9110 - val_loss: 1.2673 - val_categorical_accuracy: 0.5100 - lr: 1.0000e-04\n",
      "Epoch 23/30\n",
      "21/21 [==============================] - ETA: 0s - loss: 0.2298 - categorical_accuracy: 0.9291\n",
      "Epoch 00023: val_loss did not improve from 1.26731\n",
      "21/21 [==============================] - 121s 6s/step - loss: 0.2298 - categorical_accuracy: 0.9291 - val_loss: 1.2912 - val_categorical_accuracy: 0.5400 - lr: 1.0000e-04\n",
      "Epoch 24/30\n",
      "21/21 [==============================] - ETA: 0s - loss: 0.2244 - categorical_accuracy: 0.9291\n",
      "Epoch 00024: val_loss improved from 1.26731 to 1.11872, saving model to model_conv3D_4_2024-09-0305_55_43.766329/model-00024-0.22441-0.92911-1.11872-0.57000.h5\n",
      "21/21 [==============================] - 114s 6s/step - loss: 0.2244 - categorical_accuracy: 0.9291 - val_loss: 1.1187 - val_categorical_accuracy: 0.5700 - lr: 1.0000e-04\n",
      "Epoch 25/30\n",
      "21/21 [==============================] - ETA: 0s - loss: 0.2557 - categorical_accuracy: 0.9261\n",
      "Epoch 00025: val_loss improved from 1.11872 to 1.03656, saving model to model_conv3D_4_2024-09-0305_55_43.766329/model-00025-0.25567-0.92609-1.03656-0.63000.h5\n",
      "21/21 [==============================] - 120s 6s/step - loss: 0.2557 - categorical_accuracy: 0.9261 - val_loss: 1.0366 - val_categorical_accuracy: 0.6300 - lr: 1.0000e-04\n",
      "Epoch 26/30\n",
      "21/21 [==============================] - ETA: 0s - loss: 0.2255 - categorical_accuracy: 0.9336\n",
      "Epoch 00026: val_loss did not improve from 1.03656\n",
      "21/21 [==============================] - 119s 6s/step - loss: 0.2255 - categorical_accuracy: 0.9336 - val_loss: 1.0450 - val_categorical_accuracy: 0.6100 - lr: 1.0000e-04\n",
      "Epoch 27/30\n",
      "21/21 [==============================] - ETA: 0s - loss: 0.1984 - categorical_accuracy: 0.9472\n",
      "Epoch 00027: val_loss improved from 1.03656 to 0.95995, saving model to model_conv3D_4_2024-09-0305_55_43.766329/model-00027-0.19842-0.94721-0.95995-0.66000.h5\n",
      "21/21 [==============================] - 119s 6s/step - loss: 0.1984 - categorical_accuracy: 0.9472 - val_loss: 0.9600 - val_categorical_accuracy: 0.6600 - lr: 1.0000e-04\n",
      "Epoch 28/30\n",
      "21/21 [==============================] - ETA: 0s - loss: 0.1915 - categorical_accuracy: 0.9487\n",
      "Epoch 00028: val_loss improved from 0.95995 to 0.87004, saving model to model_conv3D_4_2024-09-0305_55_43.766329/model-00028-0.19149-0.94872-0.87004-0.67000.h5\n",
      "21/21 [==============================] - 120s 6s/step - loss: 0.1915 - categorical_accuracy: 0.9487 - val_loss: 0.8700 - val_categorical_accuracy: 0.6700 - lr: 1.0000e-04\n",
      "Epoch 29/30\n",
      "21/21 [==============================] - ETA: 0s - loss: 0.1889 - categorical_accuracy: 0.9472\n",
      "Epoch 00029: val_loss improved from 0.87004 to 0.85310, saving model to model_conv3D_4_2024-09-0305_55_43.766329/model-00029-0.18885-0.94721-0.85310-0.68000.h5\n",
      "21/21 [==============================] - 119s 6s/step - loss: 0.1889 - categorical_accuracy: 0.9472 - val_loss: 0.8531 - val_categorical_accuracy: 0.6800 - lr: 1.0000e-04\n",
      "Epoch 30/30\n",
      "21/21 [==============================] - ETA: 0s - loss: 0.1460 - categorical_accuracy: 0.9683\n",
      "Epoch 00030: val_loss did not improve from 0.85310\n",
      "21/21 [==============================] - 121s 6s/step - loss: 0.1460 - categorical_accuracy: 0.9683 - val_loss: 0.9057 - val_categorical_accuracy: 0.6400 - lr: 1.0000e-04\n"
     ]
    }
   ],
   "source": [
    "model4_history = model4.fit(train_generator, steps_per_epoch=steps_per_epoch, epochs=num_epochs, verbose=1, \n",
    "                              callbacks=callbacks_list, validation_data=val_generator, \n",
    "                              validation_steps=validation_steps, class_weight=None, initial_epoch=0)"
   ]
  },
  {
   "cell_type": "code",
   "execution_count": 27,
   "metadata": {},
   "outputs": [
    {
     "name": "stdout",
     "output_type": "stream",
     "text": [
      "dict_keys(['loss', 'categorical_accuracy', 'val_loss', 'val_categorical_accuracy', 'lr'])\n"
     ]
    },
    {
     "data": {
      "image/png": "[encoded data removed]",
      "text/plain": [
       "<Figure size 432x288 with 1 Axes>"
      ]
     },
     "metadata": {
      "needs_background": "light"
     },
     "output_type": "display_data"
    },
    {
     "data": {
      "image/png": "[encoded data removed]",
      "text/plain": [
       "<Figure size 432x288 with 1 Axes>"
      ]
     },
     "metadata": {
      "needs_background": "light"
     },
     "output_type": "display_data"
    },
    {
     "name": "stdout",
     "output_type": "stream",
     "text": [
      "Max. Training Accuracy 0.9683257937431335\n",
      "Max. Validaiton Accuracy 0.6800000071525574\n"
     ]
    }
   ],
   "source": [
    "plot_loss_accuracy(model4_history)"
   ]
  },
  {
   "cell_type": "markdown",
   "metadata": {},
   "source": [
    "### Model 5: Frames:20, Epocs-20, Batch size-64, switching BatchNormalization before MaxPooling."
   ]
  },
  {
   "cell_type": "code",
   "execution_count": 28,
   "metadata": {},
   "outputs": [
    {
     "name": "stdout",
     "output_type": "stream",
     "text": [
      "# epochs = 20\n",
      "# batch size = 64\n",
      "# num_frames per video = 20\n",
      "Model: \"conv_3d5\"\n",
      "_________________________________________________________________\n",
      " Layer (type)                Output Shape              Param #   \n",
      "=================================================================\n",
      " conv3d_13 (Conv3D)          (None, 20, 120, 120, 16)  400       \n",
      "                                                                 \n",
      " batch_normalization_21 (Bat  (None, 20, 120, 120, 16)  64       \n",
      " chNormalization)                                                \n",
      "                                                                 \n",
      " max_pooling3d_13 (MaxPoolin  (None, 10, 60, 60, 16)   0         \n",
      " g3D)                                                            \n",
      "                                                                 \n",
      " conv3d_14 (Conv3D)          (None, 10, 60, 60, 32)    4128      \n",
      "                                                                 \n",
      " batch_normalization_22 (Bat  (None, 10, 60, 60, 32)   128       \n",
      " chNormalization)                                                \n",
      "                                                                 \n",
      " max_pooling3d_14 (MaxPoolin  (None, 5, 30, 30, 32)    0         \n",
      " g3D)                                                            \n",
      "                                                                 \n",
      " conv3d_15 (Conv3D)          (None, 5, 30, 30, 64)     16448     \n",
      "                                                                 \n",
      " batch_normalization_23 (Bat  (None, 5, 30, 30, 64)    256       \n",
      " chNormalization)                                                \n",
      "                                                                 \n",
      " max_pooling3d_15 (MaxPoolin  (None, 2, 15, 15, 64)    0         \n",
      " g3D)                                                            \n",
      "                                                                 \n",
      " conv3d_16 (Conv3D)          (None, 2, 15, 15, 128)    65664     \n",
      "                                                                 \n",
      " batch_normalization_24 (Bat  (None, 2, 15, 15, 128)   512       \n",
      " chNormalization)                                                \n",
      "                                                                 \n",
      " max_pooling3d_16 (MaxPoolin  (None, 1, 7, 7, 128)     0         \n",
      " g3D)                                                            \n",
      "                                                                 \n",
      " flatten_4 (Flatten)         (None, 6272)              0         \n",
      "                                                                 \n",
      " dense_12 (Dense)            (None, 256)               1605888   \n",
      "                                                                 \n",
      " dropout_8 (Dropout)         (None, 256)               0         \n",
      "                                                                 \n",
      " dense_13 (Dense)            (None, 128)               32896     \n",
      "                                                                 \n",
      " dense_14 (Dense)            (None, 5)                 645       \n",
      "                                                                 \n",
      "=================================================================\n",
      "Total params: 1,727,029\n",
      "Trainable params: 1,726,549\n",
      "Non-trainable params: 480\n",
      "_________________________________________________________________\n",
      "None\n"
     ]
    }
   ],
   "source": [
    "num_epochs = 20 # choose the number of epochs\n",
    "print ('# epochs =', num_epochs)\n",
    "batch_size = 64  #experiment with the batch size\n",
    "print ('# batch size =', batch_size)\n",
    "num_frames = 20\n",
    "print ('# num_frames per video =', num_frames)\n",
    "num_images = num_frames\n",
    "height = 120\n",
    "width = 120\n",
    "\n",
    "model5 = Sequential([\n",
    "    Conv3D(16, make3dFilter(2), padding='same', activation='relu', input_shape=(num_images, height, width, 3)),\n",
    "    BatchNormalization(),\n",
    "    MaxPooling3D(make3dFilter(2)),\n",
    "\n",
    "    Conv3D(32, make3dFilter(2), padding='same', activation='relu'),\n",
    "    BatchNormalization(),\n",
    "    MaxPooling3D(pool_size=(2)),\n",
    "\n",
    "    Conv3D(64, make3dFilter(2), padding='same', activation='relu'),\n",
    "    BatchNormalization(),\n",
    "    MaxPooling3D(pool_size=(2)),\n",
    "\n",
    "    Conv3D(128, make3dFilter(2), padding='same', activation='relu'),\n",
    "    BatchNormalization(),\n",
    "    MaxPooling3D(pool_size=(2)),\n",
    "\n",
    "    Flatten(),\n",
    "    Dense(256, activation='relu'),\n",
    "    Dropout(0.25),\n",
    "    \n",
    "    Dense(128, activation='relu'),\n",
    "    \n",
    "    Dense(5, activation='softmax')\n",
    "], name=\"conv_3d5\")\n",
    "\n",
    "optimizer = tf.keras.optimizers.Adam() #write your optimizer\n",
    "model5.compile(optimizer=optimizer, loss='categorical_crossentropy', metrics=['categorical_accuracy'])\n",
    "\n",
    "print(model5.summary())"
   ]
  },
  {
   "cell_type": "code",
   "execution_count": 29,
   "metadata": {},
   "outputs": [
    {
     "name": "stdout",
     "output_type": "stream",
     "text": [
      "WARNING:tensorflow:`period` argument is deprecated. Please use `save_freq` to specify the frequency in number of batches seen.\n"
     ]
    }
   ],
   "source": [
    "callbacks_list = model_callbacks(\"model_conv3D_5\")\n",
    "\n",
    "steps_per_epoch, validation_steps = calculate_steps(num_train_sequences, num_val_sequences, batch_size)\n",
    "\n",
    "train_generator = generate(train_path, train_doc, batch_size, num_images=num_frames)\n",
    "\n",
    "val_generator   = generate(val_path, val_doc, batch_size, num_images=num_frames)"
   ]
  },
  {
   "cell_type": "code",
   "execution_count": 30,
   "metadata": {},
   "outputs": [
    {
     "name": "stdout",
     "output_type": "stream",
     "text": [
      "Epoch 1/20\n",
      "11/11 [==============================] - ETA: 0s - loss: 4.6994 - categorical_accuracy: 0.2836\n",
      "Epoch 00001: val_loss improved from inf to 1.55075, saving model to model_conv3D_5_2024-09-0305_55_43.766329/model-00001-4.69943-0.28356-1.55075-0.25000.h5\n",
      "11/11 [==============================] - 109s 11s/step - loss: 4.6994 - categorical_accuracy: 0.2836 - val_loss: 1.5507 - val_categorical_accuracy: 0.2500 - lr: 0.0010\n",
      "Epoch 2/20\n",
      "11/11 [==============================] - ETA: 0s - loss: 1.4126 - categorical_accuracy: 0.5053\n",
      "Epoch 00002: val_loss did not improve from 1.55075\n",
      "11/11 [==============================] - 102s 10s/step - loss: 1.4126 - categorical_accuracy: 0.5053 - val_loss: 2.4526 - val_categorical_accuracy: 0.1600 - lr: 0.0010\n",
      "Epoch 3/20\n",
      "11/11 [==============================] - ETA: 0s - loss: 0.9601 - categorical_accuracy: 0.6199\n",
      "Epoch 00003: val_loss did not improve from 1.55075\n",
      "11/11 [==============================] - 105s 11s/step - loss: 0.9601 - categorical_accuracy: 0.6199 - val_loss: 3.6512 - val_categorical_accuracy: 0.2100 - lr: 0.0010\n",
      "Epoch 4/20\n",
      "11/11 [==============================] - ETA: 0s - loss: 0.6902 - categorical_accuracy: 0.7406\n",
      "Epoch 00004: val_loss did not improve from 1.55075\n",
      "\n",
      "Epoch 00004: ReduceLROnPlateau reducing learning rate to 0.00010000000474974513.\n",
      "11/11 [==============================] - 103s 10s/step - loss: 0.6902 - categorical_accuracy: 0.7406 - val_loss: 4.4519 - val_categorical_accuracy: 0.2500 - lr: 0.0010\n",
      "Epoch 5/20\n",
      "11/11 [==============================] - ETA: 0s - loss: 0.5612 - categorical_accuracy: 0.7994\n",
      "Epoch 00005: val_loss did not improve from 1.55075\n",
      "11/11 [==============================] - 105s 10s/step - loss: 0.5612 - categorical_accuracy: 0.7994 - val_loss: 5.6155 - val_categorical_accuracy: 0.2300 - lr: 1.0000e-04\n",
      "Epoch 6/20\n",
      "11/11 [==============================] - ETA: 0s - loss: 0.5301 - categorical_accuracy: 0.7934\n",
      "Epoch 00006: val_loss did not improve from 1.55075\n",
      "11/11 [==============================] - 102s 10s/step - loss: 0.5301 - categorical_accuracy: 0.7934 - val_loss: 6.5337 - val_categorical_accuracy: 0.1800 - lr: 1.0000e-04\n",
      "Epoch 7/20\n",
      "11/11 [==============================] - ETA: 0s - loss: 0.4239 - categorical_accuracy: 0.8552\n",
      "Epoch 00007: val_loss did not improve from 1.55075\n",
      "\n",
      "Epoch 00007: ReduceLROnPlateau reducing learning rate to 0.0001.\n",
      "11/11 [==============================] - 106s 11s/step - loss: 0.4239 - categorical_accuracy: 0.8552 - val_loss: 6.7146 - val_categorical_accuracy: 0.2100 - lr: 1.0000e-04\n",
      "Epoch 8/20\n",
      "11/11 [==============================] - ETA: 0s - loss: 0.4183 - categorical_accuracy: 0.8537\n",
      "Epoch 00008: val_loss did not improve from 1.55075\n",
      "11/11 [==============================] - 102s 10s/step - loss: 0.4183 - categorical_accuracy: 0.8537 - val_loss: 6.6097 - val_categorical_accuracy: 0.2200 - lr: 1.0000e-04\n",
      "Epoch 9/20\n",
      "11/11 [==============================] - ETA: 0s - loss: 0.3870 - categorical_accuracy: 0.8582\n",
      "Epoch 00009: val_loss did not improve from 1.55075\n",
      "11/11 [==============================] - 106s 11s/step - loss: 0.3870 - categorical_accuracy: 0.8582 - val_loss: 7.1949 - val_categorical_accuracy: 0.2100 - lr: 1.0000e-04\n",
      "Epoch 10/20\n",
      "11/11 [==============================] - ETA: 0s - loss: 0.3679 - categorical_accuracy: 0.8733\n",
      "Epoch 00010: val_loss did not improve from 1.55075\n",
      "11/11 [==============================] - 101s 10s/step - loss: 0.3679 - categorical_accuracy: 0.8733 - val_loss: 7.9121 - val_categorical_accuracy: 0.1800 - lr: 1.0000e-04\n",
      "Epoch 11/20\n",
      "11/11 [==============================] - ETA: 0s - loss: 0.3656 - categorical_accuracy: 0.8763\n",
      "Epoch 00011: val_loss did not improve from 1.55075\n",
      "11/11 [==============================] - 107s 11s/step - loss: 0.3656 - categorical_accuracy: 0.8763 - val_loss: 7.1625 - val_categorical_accuracy: 0.2100 - lr: 1.0000e-04\n",
      "Epoch 12/20\n",
      "11/11 [==============================] - ETA: 0s - loss: 0.3454 - categorical_accuracy: 0.8854\n",
      "Epoch 00012: val_loss did not improve from 1.55075\n",
      "11/11 [==============================] - 101s 10s/step - loss: 0.3454 - categorical_accuracy: 0.8854 - val_loss: 6.8998 - val_categorical_accuracy: 0.2300 - lr: 1.0000e-04\n",
      "Epoch 13/20\n",
      "11/11 [==============================] - ETA: 0s - loss: 0.3266 - categorical_accuracy: 0.8839\n",
      "Epoch 00013: val_loss did not improve from 1.55075\n",
      "11/11 [==============================] - 109s 11s/step - loss: 0.3266 - categorical_accuracy: 0.8839 - val_loss: 7.2476 - val_categorical_accuracy: 0.2100 - lr: 1.0000e-04\n",
      "Epoch 14/20\n",
      "11/11 [==============================] - ETA: 0s - loss: 0.3091 - categorical_accuracy: 0.8974\n",
      "Epoch 00014: val_loss did not improve from 1.55075\n",
      "11/11 [==============================] - 114s 11s/step - loss: 0.3091 - categorical_accuracy: 0.8974 - val_loss: 7.7750 - val_categorical_accuracy: 0.2100 - lr: 1.0000e-04\n",
      "Epoch 15/20\n",
      "11/11 [==============================] - ETA: 0s - loss: 0.2973 - categorical_accuracy: 0.9065\n",
      "Epoch 00015: val_loss did not improve from 1.55075\n",
      "11/11 [==============================] - 110s 11s/step - loss: 0.2973 - categorical_accuracy: 0.9065 - val_loss: 7.4263 - val_categorical_accuracy: 0.2200 - lr: 1.0000e-04\n",
      "Epoch 16/20\n",
      "11/11 [==============================] - ETA: 0s - loss: 0.3009 - categorical_accuracy: 0.8854\n",
      "Epoch 00016: val_loss did not improve from 1.55075\n",
      "11/11 [==============================] - 102s 10s/step - loss: 0.3009 - categorical_accuracy: 0.8854 - val_loss: 7.6306 - val_categorical_accuracy: 0.2400 - lr: 1.0000e-04\n",
      "Epoch 17/20\n",
      "11/11 [==============================] - ETA: 0s - loss: 0.2790 - categorical_accuracy: 0.9201\n",
      "Epoch 00017: val_loss did not improve from 1.55075\n",
      "11/11 [==============================] - 106s 11s/step - loss: 0.2790 - categorical_accuracy: 0.9201 - val_loss: 7.4691 - val_categorical_accuracy: 0.3400 - lr: 1.0000e-04\n",
      "Epoch 18/20\n",
      "11/11 [==============================] - ETA: 0s - loss: 0.2774 - categorical_accuracy: 0.9080\n",
      "Epoch 00018: val_loss did not improve from 1.55075\n",
      "11/11 [==============================] - 104s 10s/step - loss: 0.2774 - categorical_accuracy: 0.9080 - val_loss: 7.7253 - val_categorical_accuracy: 0.3200 - lr: 1.0000e-04\n",
      "Epoch 19/20\n",
      "11/11 [==============================] - ETA: 0s - loss: 0.2450 - categorical_accuracy: 0.9125\n",
      "Epoch 00019: val_loss did not improve from 1.55075\n",
      "11/11 [==============================] - 111s 11s/step - loss: 0.2450 - categorical_accuracy: 0.9125 - val_loss: 7.4729 - val_categorical_accuracy: 0.3400 - lr: 1.0000e-04\n",
      "Epoch 20/20\n",
      "11/11 [==============================] - ETA: 0s - loss: 0.2208 - categorical_accuracy: 0.9367\n",
      "Epoch 00020: val_loss did not improve from 1.55075\n",
      "11/11 [==============================] - 104s 10s/step - loss: 0.2208 - categorical_accuracy: 0.9367 - val_loss: 7.0498 - val_categorical_accuracy: 0.3800 - lr: 1.0000e-04\n"
     ]
    }
   ],
   "source": [
    "model5_history = model5.fit(train_generator, steps_per_epoch=steps_per_epoch, epochs=num_epochs, verbose=1, \n",
    "                              callbacks=callbacks_list, validation_data=val_generator, \n",
    "                              validation_steps=validation_steps, class_weight=None, initial_epoch=0)"
   ]
  },
  {
   "cell_type": "code",
   "execution_count": 31,
   "metadata": {},
   "outputs": [
    {
     "name": "stdout",
     "output_type": "stream",
     "text": [
      "dict_keys(['loss', 'categorical_accuracy', 'val_loss', 'val_categorical_accuracy', 'lr'])\n"
     ]
    },
    {
     "data": {
      "image/png": "[encoded data removed]",
      "text/plain": [
       "<Figure size 432x288 with 1 Axes>"
      ]
     },
     "metadata": {
      "needs_background": "light"
     },
     "output_type": "display_data"
    },
    {
     "data": {
      "image/png": "[encoded data removed]",
      "text/plain": [
       "<Figure size 432x288 with 1 Axes>"
      ]
     },
     "metadata": {
      "needs_background": "light"
     },
     "output_type": "display_data"
    },
    {
     "name": "stdout",
     "output_type": "stream",
     "text": [
      "Max. Training Accuracy 0.9366515874862671\n",
      "Max. Validaiton Accuracy 0.3799999952316284\n"
     ]
    }
   ],
   "source": [
    "plot_loss_accuracy(model5_history)"
   ]
  },
  {
   "cell_type": "markdown",
   "metadata": {},
   "source": [
    "### Model 6: Switching Model architecture to Conv2D+LSTM"
   ]
  },
  {
   "cell_type": "code",
   "execution_count": 32,
   "metadata": {},
   "outputs": [
    {
     "name": "stdout",
     "output_type": "stream",
     "text": [
      "# epochs = 30\n",
      "# batch size = 32\n",
      "# num_frames per video = 20\n",
      "Model: \"conv_2d_lstm\"\n",
      "_________________________________________________________________\n",
      " Layer (type)                Output Shape              Param #   \n",
      "=================================================================\n",
      " time_distributed (TimeDistr  (None, 20, 120, 120, 16)  448      \n",
      " ibuted)                                                         \n",
      "                                                                 \n",
      " time_distributed_1 (TimeDis  (None, 20, 120, 120, 16)  64       \n",
      " tributed)                                                       \n",
      "                                                                 \n",
      " time_distributed_2 (TimeDis  (None, 20, 60, 60, 16)   0         \n",
      " tributed)                                                       \n",
      "                                                                 \n",
      " time_distributed_3 (TimeDis  (None, 20, 60, 60, 32)   4640      \n",
      " tributed)                                                       \n",
      "                                                                 \n",
      " time_distributed_4 (TimeDis  (None, 20, 60, 60, 32)   128       \n",
      " tributed)                                                       \n",
      "                                                                 \n",
      " time_distributed_5 (TimeDis  (None, 20, 30, 30, 32)   0         \n",
      " tributed)                                                       \n",
      "                                                                 \n",
      " time_distributed_6 (TimeDis  (None, 20, 30, 30, 64)   18496     \n",
      " tributed)                                                       \n",
      "                                                                 \n",
      " time_distributed_7 (TimeDis  (None, 20, 30, 30, 64)   256       \n",
      " tributed)                                                       \n",
      "                                                                 \n",
      " time_distributed_8 (TimeDis  (None, 20, 15, 15, 64)   0         \n",
      " tributed)                                                       \n",
      "                                                                 \n",
      " time_distributed_9 (TimeDis  (None, 20, 15, 15, 128)  73856     \n",
      " tributed)                                                       \n",
      "                                                                 \n",
      " time_distributed_10 (TimeDi  (None, 20, 15, 15, 128)  512       \n",
      " stributed)                                                      \n",
      "                                                                 \n",
      " time_distributed_11 (TimeDi  (None, 20, 7, 7, 128)    0         \n",
      " stributed)                                                      \n",
      "                                                                 \n",
      " time_distributed_12 (TimeDi  (None, 20, 7, 7, 256)    295168    \n",
      " stributed)                                                      \n",
      "                                                                 \n",
      " time_distributed_13 (TimeDi  (None, 20, 7, 7, 256)    1024      \n",
      " stributed)                                                      \n",
      "                                                                 \n",
      " time_distributed_14 (TimeDi  (None, 20, 3, 3, 256)    0         \n",
      " stributed)                                                      \n",
      "                                                                 \n",
      " time_distributed_15 (TimeDi  (None, 20, 2304)         0         \n",
      " stributed)                                                      \n",
      "                                                                 \n",
      " lstm (LSTM)                 (None, 256)               2622464   \n",
      "                                                                 \n",
      " dropout_9 (Dropout)         (None, 256)               0         \n",
      "                                                                 \n",
      " dense_15 (Dense)            (None, 256)               65792     \n",
      "                                                                 \n",
      " dropout_10 (Dropout)        (None, 256)               0         \n",
      "                                                                 \n",
      " dense_16 (Dense)            (None, 5)                 1285      \n",
      "                                                                 \n",
      "=================================================================\n",
      "Total params: 3,084,133\n",
      "Trainable params: 3,083,141\n",
      "Non-trainable params: 992\n",
      "_________________________________________________________________\n",
      "None\n"
     ]
    }
   ],
   "source": [
    "num_epochs = 30 # choose the number of epochs\n",
    "print ('# epochs =', num_epochs)\n",
    "batch_size = 32  #experiment with the batch size\n",
    "print ('# batch size =', batch_size)\n",
    "num_frames = 20\n",
    "print ('# num_frames per video =', num_frames)\n",
    "num_images = num_frames\n",
    "height = 120\n",
    "width = 120\n",
    "\n",
    "model6 = Sequential([\n",
    "    TimeDistributed(Conv2D(16, make2dFilter(3), padding='same', activation='relu'), input_shape=(num_images, height, width, 3)),\n",
    "    TimeDistributed(BatchNormalization()),\n",
    "    TimeDistributed(MaxPooling2D(make2dFilter(2))),\n",
    "\n",
    "    TimeDistributed(Conv2D(32, make2dFilter(3), padding='same', activation='relu')),\n",
    "    TimeDistributed(BatchNormalization()),\n",
    "    TimeDistributed(MaxPooling2D(make2dFilter(2))),\n",
    "\n",
    "    TimeDistributed(Conv2D(64, make2dFilter(3), padding='same', activation='relu')),\n",
    "    TimeDistributed(BatchNormalization()),\n",
    "    TimeDistributed(MaxPooling2D(make2dFilter(2))),\n",
    "\n",
    "    TimeDistributed(Conv2D(128, make2dFilter(3), padding='same', activation='relu')),\n",
    "    TimeDistributed(BatchNormalization()),\n",
    "    TimeDistributed(MaxPooling2D(make2dFilter(2))),\n",
    "\n",
    "    TimeDistributed(Conv2D(256, make2dFilter(3), padding='same', activation='relu')),\n",
    "    TimeDistributed(BatchNormalization()),\n",
    "    TimeDistributed(MaxPooling2D(make2dFilter(2))),\n",
    "\n",
    "    TimeDistributed(Flatten()),\n",
    "    LSTM(256),\n",
    "    Dropout(0.2),\n",
    "\n",
    "    Dense(256, activation='relu'),\n",
    "    Dropout(0.2),\n",
    "\n",
    "    Dense(5, activation='softmax')\n",
    "], name=\"conv_2d_lstm\")\n",
    "\n",
    "optimizer = tf.keras.optimizers.Adam() #write your optimizer\n",
    "model6.compile(optimizer=optimizer, loss='categorical_crossentropy', metrics=['categorical_accuracy'])\n",
    "\n",
    "print(model6.summary())"
   ]
  },
  {
   "cell_type": "code",
   "execution_count": 33,
   "metadata": {},
   "outputs": [
    {
     "name": "stdout",
     "output_type": "stream",
     "text": [
      "WARNING:tensorflow:`period` argument is deprecated. Please use `save_freq` to specify the frequency in number of batches seen.\n"
     ]
    }
   ],
   "source": [
    "callbacks_list = model_callbacks(\"model6_Conv2D_LSTM\")\n",
    "\n",
    "steps_per_epoch, validation_steps = calculate_steps(num_train_sequences, num_val_sequences, batch_size)\n",
    "\n",
    "train_generator = generate(train_path, train_doc, batch_size, augment=False, num_images=num_frames)\n",
    "\n",
    "val_generator   = generate(val_path, val_doc, batch_size, num_images=num_frames)"
   ]
  },
  {
   "cell_type": "code",
   "execution_count": 34,
   "metadata": {},
   "outputs": [
    {
     "name": "stdout",
     "output_type": "stream",
     "text": [
      "Epoch 1/30\n",
      "21/21 [==============================] - ETA: 0s - loss: 1.3987 - categorical_accuracy: 0.4027\n",
      "Epoch 00001: val_loss improved from inf to 1.64381, saving model to model6_Conv2D_LSTM_2024-09-0305_55_43.766329/model-00001-1.39871-0.40271-1.64381-0.18000.h5\n",
      "21/21 [==============================] - 111s 5s/step - loss: 1.3987 - categorical_accuracy: 0.4027 - val_loss: 1.6438 - val_categorical_accuracy: 0.1800 - lr: 0.0010\n",
      "Epoch 2/30\n",
      "21/21 [==============================] - ETA: 0s - loss: 0.9695 - categorical_accuracy: 0.6063\n",
      "Epoch 00002: val_loss did not improve from 1.64381\n",
      "21/21 [==============================] - 110s 5s/step - loss: 0.9695 - categorical_accuracy: 0.6063 - val_loss: 1.9252 - val_categorical_accuracy: 0.2100 - lr: 0.0010\n",
      "Epoch 3/30\n",
      "21/21 [==============================] - ETA: 0s - loss: 0.8532 - categorical_accuracy: 0.6591\n",
      "Epoch 00003: val_loss did not improve from 1.64381\n",
      "21/21 [==============================] - 106s 5s/step - loss: 0.8532 - categorical_accuracy: 0.6591 - val_loss: 2.0199 - val_categorical_accuracy: 0.2200 - lr: 0.0010\n",
      "Epoch 4/30\n",
      "21/21 [==============================] - ETA: 0s - loss: 0.6572 - categorical_accuracy: 0.7360\n",
      "Epoch 00004: val_loss did not improve from 1.64381\n",
      "\n",
      "Epoch 00004: ReduceLROnPlateau reducing learning rate to 0.00010000000474974513.\n",
      "21/21 [==============================] - 103s 5s/step - loss: 0.6572 - categorical_accuracy: 0.7360 - val_loss: 2.5056 - val_categorical_accuracy: 0.1800 - lr: 0.0010\n",
      "Epoch 5/30\n",
      "21/21 [==============================] - ETA: 0s - loss: 0.4640 - categorical_accuracy: 0.8296\n",
      "Epoch 00005: val_loss did not improve from 1.64381\n",
      "21/21 [==============================] - 106s 5s/step - loss: 0.4640 - categorical_accuracy: 0.8296 - val_loss: 2.2861 - val_categorical_accuracy: 0.1800 - lr: 1.0000e-04\n",
      "Epoch 6/30\n",
      "21/21 [==============================] - ETA: 0s - loss: 0.3517 - categorical_accuracy: 0.8869\n",
      "Epoch 00006: val_loss did not improve from 1.64381\n",
      "21/21 [==============================] - 110s 5s/step - loss: 0.3517 - categorical_accuracy: 0.8869 - val_loss: 2.3125 - val_categorical_accuracy: 0.1700 - lr: 1.0000e-04\n",
      "Epoch 7/30\n",
      "21/21 [==============================] - ETA: 0s - loss: 0.3091 - categorical_accuracy: 0.9080\n",
      "Epoch 00007: val_loss did not improve from 1.64381\n",
      "\n",
      "Epoch 00007: ReduceLROnPlateau reducing learning rate to 0.0001.\n",
      "21/21 [==============================] - 107s 5s/step - loss: 0.3091 - categorical_accuracy: 0.9080 - val_loss: 2.4387 - val_categorical_accuracy: 0.1700 - lr: 1.0000e-04\n",
      "Epoch 8/30\n",
      "21/21 [==============================] - ETA: 0s - loss: 0.2545 - categorical_accuracy: 0.9336\n",
      "Epoch 00008: val_loss did not improve from 1.64381\n",
      "21/21 [==============================] - 103s 5s/step - loss: 0.2545 - categorical_accuracy: 0.9336 - val_loss: 2.3313 - val_categorical_accuracy: 0.1800 - lr: 1.0000e-04\n",
      "Epoch 9/30\n",
      "21/21 [==============================] - ETA: 0s - loss: 0.2137 - categorical_accuracy: 0.9382\n",
      "Epoch 00009: val_loss did not improve from 1.64381\n",
      "21/21 [==============================] - 108s 5s/step - loss: 0.2137 - categorical_accuracy: 0.9382 - val_loss: 2.2769 - val_categorical_accuracy: 0.2300 - lr: 1.0000e-04\n",
      "Epoch 10/30\n",
      "21/21 [==============================] - ETA: 0s - loss: 0.2136 - categorical_accuracy: 0.9397\n",
      "Epoch 00010: val_loss did not improve from 1.64381\n",
      "21/21 [==============================] - 107s 5s/step - loss: 0.2136 - categorical_accuracy: 0.9397 - val_loss: 2.3535 - val_categorical_accuracy: 0.1900 - lr: 1.0000e-04\n",
      "Epoch 11/30\n",
      "21/21 [==============================] - ETA: 0s - loss: 0.1803 - categorical_accuracy: 0.9487\n",
      "Epoch 00011: val_loss did not improve from 1.64381\n",
      "21/21 [==============================] - 106s 5s/step - loss: 0.1803 - categorical_accuracy: 0.9487 - val_loss: 2.5253 - val_categorical_accuracy: 0.2100 - lr: 1.0000e-04\n",
      "Epoch 12/30\n",
      "21/21 [==============================] - ETA: 0s - loss: 0.1499 - categorical_accuracy: 0.9713\n",
      "Epoch 00012: val_loss did not improve from 1.64381\n",
      "21/21 [==============================] - 102s 5s/step - loss: 0.1499 - categorical_accuracy: 0.9713 - val_loss: 2.4532 - val_categorical_accuracy: 0.2700 - lr: 1.0000e-04\n",
      "Epoch 13/30\n",
      "21/21 [==============================] - ETA: 0s - loss: 0.1283 - categorical_accuracy: 0.9744\n",
      "Epoch 00013: val_loss did not improve from 1.64381\n",
      "21/21 [==============================] - 107s 5s/step - loss: 0.1283 - categorical_accuracy: 0.9744 - val_loss: 2.5314 - val_categorical_accuracy: 0.2600 - lr: 1.0000e-04\n",
      "Epoch 14/30\n",
      "21/21 [==============================] - ETA: 0s - loss: 0.1124 - categorical_accuracy: 0.9849\n",
      "Epoch 00014: val_loss did not improve from 1.64381\n",
      "21/21 [==============================] - 106s 5s/step - loss: 0.1124 - categorical_accuracy: 0.9849 - val_loss: 2.6157 - val_categorical_accuracy: 0.2500 - lr: 1.0000e-04\n",
      "Epoch 15/30\n",
      "21/21 [==============================] - ETA: 0s - loss: 0.0921 - categorical_accuracy: 0.9864\n",
      "Epoch 00015: val_loss did not improve from 1.64381\n",
      "21/21 [==============================] - 106s 5s/step - loss: 0.0921 - categorical_accuracy: 0.9864 - val_loss: 2.5458 - val_categorical_accuracy: 0.2900 - lr: 1.0000e-04\n",
      "Epoch 16/30\n",
      "21/21 [==============================] - ETA: 0s - loss: 0.0793 - categorical_accuracy: 0.9864\n",
      "Epoch 00016: val_loss did not improve from 1.64381\n",
      "21/21 [==============================] - 105s 5s/step - loss: 0.0793 - categorical_accuracy: 0.9864 - val_loss: 2.5277 - val_categorical_accuracy: 0.3100 - lr: 1.0000e-04\n",
      "Epoch 17/30\n",
      "21/21 [==============================] - ETA: 0s - loss: 0.0608 - categorical_accuracy: 0.9955\n",
      "Epoch 00017: val_loss did not improve from 1.64381\n",
      "21/21 [==============================] - 110s 5s/step - loss: 0.0608 - categorical_accuracy: 0.9955 - val_loss: 2.5543 - val_categorical_accuracy: 0.3100 - lr: 1.0000e-04\n",
      "Epoch 18/30\n",
      "21/21 [==============================] - ETA: 0s - loss: 0.0705 - categorical_accuracy: 0.9849\n",
      "Epoch 00018: val_loss did not improve from 1.64381\n",
      "21/21 [==============================] - 110s 5s/step - loss: 0.0705 - categorical_accuracy: 0.9849 - val_loss: 2.3273 - val_categorical_accuracy: 0.3600 - lr: 1.0000e-04\n",
      "Epoch 19/30\n",
      "21/21 [==============================] - ETA: 0s - loss: 0.0492 - categorical_accuracy: 0.9955\n",
      "Epoch 00019: val_loss did not improve from 1.64381\n",
      "21/21 [==============================] - 109s 5s/step - loss: 0.0492 - categorical_accuracy: 0.9955 - val_loss: 2.4224 - val_categorical_accuracy: 0.3300 - lr: 1.0000e-04\n",
      "Epoch 20/30\n",
      "21/21 [==============================] - ETA: 0s - loss: 0.0439 - categorical_accuracy: 0.9940\n",
      "Epoch 00020: val_loss did not improve from 1.64381\n",
      "21/21 [==============================] - 103s 5s/step - loss: 0.0439 - categorical_accuracy: 0.9940 - val_loss: 2.5531 - val_categorical_accuracy: 0.3400 - lr: 1.0000e-04\n",
      "Epoch 21/30\n",
      "21/21 [==============================] - ETA: 0s - loss: 0.0350 - categorical_accuracy: 1.0000\n",
      "Epoch 00021: val_loss did not improve from 1.64381\n",
      "21/21 [==============================] - 106s 5s/step - loss: 0.0350 - categorical_accuracy: 1.0000 - val_loss: 2.3824 - val_categorical_accuracy: 0.3900 - lr: 1.0000e-04\n",
      "Epoch 22/30\n",
      "21/21 [==============================] - ETA: 0s - loss: 0.0301 - categorical_accuracy: 0.9985\n",
      "Epoch 00022: val_loss did not improve from 1.64381\n",
      "21/21 [==============================] - 105s 5s/step - loss: 0.0301 - categorical_accuracy: 0.9985 - val_loss: 2.2355 - val_categorical_accuracy: 0.4200 - lr: 1.0000e-04\n",
      "Epoch 23/30\n",
      "21/21 [==============================] - ETA: 0s - loss: 0.0316 - categorical_accuracy: 0.9985\n",
      "Epoch 00023: val_loss improved from 1.64381 to 1.63480, saving model to model6_Conv2D_LSTM_2024-09-0305_55_43.766329/model-00023-0.03162-0.99849-1.63480-0.53000.h5\n",
      "21/21 [==============================] - 107s 5s/step - loss: 0.0316 - categorical_accuracy: 0.9985 - val_loss: 1.6348 - val_categorical_accuracy: 0.5300 - lr: 1.0000e-04\n",
      "Epoch 24/30\n",
      "21/21 [==============================] - ETA: 0s - loss: 0.0238 - categorical_accuracy: 1.0000\n",
      "Epoch 00024: val_loss improved from 1.63480 to 1.58393, saving model to model6_Conv2D_LSTM_2024-09-0305_55_43.766329/model-00024-0.02378-1.00000-1.58393-0.55000.h5\n",
      "21/21 [==============================] - 103s 5s/step - loss: 0.0238 - categorical_accuracy: 1.0000 - val_loss: 1.5839 - val_categorical_accuracy: 0.5500 - lr: 1.0000e-04\n",
      "Epoch 25/30\n",
      "21/21 [==============================] - ETA: 0s - loss: 0.0214 - categorical_accuracy: 1.0000\n",
      "Epoch 00025: val_loss improved from 1.58393 to 1.54870, saving model to model6_Conv2D_LSTM_2024-09-0305_55_43.766329/model-00025-0.02141-1.00000-1.54870-0.56000.h5\n",
      "21/21 [==============================] - 109s 5s/step - loss: 0.0214 - categorical_accuracy: 1.0000 - val_loss: 1.5487 - val_categorical_accuracy: 0.5600 - lr: 1.0000e-04\n",
      "Epoch 26/30\n",
      "21/21 [==============================] - ETA: 0s - loss: 0.0228 - categorical_accuracy: 0.9985\n",
      "Epoch 00026: val_loss did not improve from 1.54870\n",
      "21/21 [==============================] - 106s 5s/step - loss: 0.0228 - categorical_accuracy: 0.9985 - val_loss: 1.6207 - val_categorical_accuracy: 0.5200 - lr: 1.0000e-04\n",
      "Epoch 27/30\n",
      "21/21 [==============================] - ETA: 0s - loss: 0.0223 - categorical_accuracy: 0.9985\n",
      "Epoch 00027: val_loss improved from 1.54870 to 1.22928, saving model to model6_Conv2D_LSTM_2024-09-0305_55_43.766329/model-00027-0.02226-0.99849-1.22928-0.65000.h5\n",
      "21/21 [==============================] - 104s 5s/step - loss: 0.0223 - categorical_accuracy: 0.9985 - val_loss: 1.2293 - val_categorical_accuracy: 0.6500 - lr: 1.0000e-04\n",
      "Epoch 28/30\n",
      "21/21 [==============================] - ETA: 0s - loss: 0.0259 - categorical_accuracy: 0.9985\n",
      "Epoch 00028: val_loss improved from 1.22928 to 1.11183, saving model to model6_Conv2D_LSTM_2024-09-0305_55_43.766329/model-00028-0.02589-0.99849-1.11183-0.67000.h5\n",
      "21/21 [==============================] - 102s 5s/step - loss: 0.0259 - categorical_accuracy: 0.9985 - val_loss: 1.1118 - val_categorical_accuracy: 0.6700 - lr: 1.0000e-04\n",
      "Epoch 29/30\n",
      "21/21 [==============================] - ETA: 0s - loss: 0.0143 - categorical_accuracy: 1.0000\n",
      "Epoch 00029: val_loss improved from 1.11183 to 1.09308, saving model to model6_Conv2D_LSTM_2024-09-0305_55_43.766329/model-00029-0.01435-1.00000-1.09308-0.65000.h5\n",
      "21/21 [==============================] - 105s 5s/step - loss: 0.0143 - categorical_accuracy: 1.0000 - val_loss: 1.0931 - val_categorical_accuracy: 0.6500 - lr: 1.0000e-04\n",
      "Epoch 30/30\n",
      "21/21 [==============================] - ETA: 0s - loss: 0.0132 - categorical_accuracy: 1.0000\n",
      "Epoch 00030: val_loss did not improve from 1.09308\n",
      "21/21 [==============================] - 106s 5s/step - loss: 0.0132 - categorical_accuracy: 1.0000 - val_loss: 1.2759 - val_categorical_accuracy: 0.6100 - lr: 1.0000e-04\n"
     ]
    }
   ],
   "source": [
    "model6_history = model6.fit(train_generator, steps_per_epoch=steps_per_epoch, epochs=num_epochs, verbose=1, \n",
    "                              callbacks=callbacks_list, validation_data=val_generator, \n",
    "                              validation_steps=validation_steps, class_weight=None, initial_epoch=0)"
   ]
  },
  {
   "cell_type": "code",
   "execution_count": 35,
   "metadata": {},
   "outputs": [
    {
     "name": "stdout",
     "output_type": "stream",
     "text": [
      "dict_keys(['loss', 'categorical_accuracy', 'val_loss', 'val_categorical_accuracy', 'lr'])\n"
     ]
    },
    {
     "data": {
      "image/png": "[encoded data removed]",
      "text/plain": [
       "<Figure size 432x288 with 1 Axes>"
      ]
     },
     "metadata": {
      "needs_background": "light"
     },
     "output_type": "display_data"
    },
    {
     "data": {
      "image/png": "[encoded data removed]",
      "text/plain": [
       "<Figure size 432x288 with 1 Axes>"
      ]
     },
     "metadata": {
      "needs_background": "light"
     },
     "output_type": "display_data"
    },
    {
     "name": "stdout",
     "output_type": "stream",
     "text": [
      "Max. Training Accuracy 1.0\n",
      "Max. Validaiton Accuracy 0.6700000166893005\n"
     ]
    }
   ],
   "source": [
    "plot_loss_accuracy(model6_history)"
   ]
  },
  {
   "cell_type": "markdown",
   "metadata": {},
   "source": [
    "### Model 7: Transfer Learning (MobileNet) with LSTM"
   ]
  },
  {
   "cell_type": "code",
   "execution_count": 36,
   "metadata": {},
   "outputs": [],
   "source": [
    "from tensorflow.keras.applications import mobilenet"
   ]
  },
  {
   "cell_type": "code",
   "execution_count": 37,
   "metadata": {},
   "outputs": [
    {
     "name": "stdout",
     "output_type": "stream",
     "text": [
      "WARNING:tensorflow:`input_shape` is undefined or non-square, or `rows` is not in [128, 160, 192, 224]. Weights for input shape (224, 224) will be loaded as the default.\n",
      "Downloading data from https://storage.googleapis.com/tensorflow/keras-applications/mobilenet/mobilenet_1_0_224_tf_no_top.h5\n",
      "17227776/17225924 [==============================] - 22s 1us/step\n",
      "17235968/17225924 [==============================] - 22s 1us/step\n",
      "# epochs = 30\n",
      "# batch size = 64\n",
      "# num_frames per video = 20\n",
      "Model: \"mobilenet_lstm\"\n",
      "_________________________________________________________________\n",
      " Layer (type)                Output Shape              Param #   \n",
      "=================================================================\n",
      " time_distributed_16 (TimeDi  (None, 20, 3, 3, 1024)   3228864   \n",
      " stributed)                                                      \n",
      "                                                                 \n",
      " time_distributed_17 (TimeDi  (None, 20, 3, 3, 1024)   4096      \n",
      " stributed)                                                      \n",
      "                                                                 \n",
      " time_distributed_18 (TimeDi  (None, 20, 1, 1, 1024)   0         \n",
      " stributed)                                                      \n",
      "                                                                 \n",
      " time_distributed_19 (TimeDi  (None, 20, 1024)         0         \n",
      " stributed)                                                      \n",
      "                                                                 \n",
      " lstm_1 (LSTM)               (None, 256)               1311744   \n",
      "                                                                 \n",
      " dropout_11 (Dropout)        (None, 256)               0         \n",
      "                                                                 \n",
      " dense_17 (Dense)            (None, 256)               65792     \n",
      "                                                                 \n",
      " dropout_12 (Dropout)        (None, 256)               0         \n",
      "                                                                 \n",
      " dense_18 (Dense)            (None, 5)                 1285      \n",
      "                                                                 \n",
      "=================================================================\n",
      "Total params: 4,611,781\n",
      "Trainable params: 1,380,869\n",
      "Non-trainable params: 3,230,912\n",
      "_________________________________________________________________\n",
      "None\n"
     ]
    }
   ],
   "source": [
    "mobilenet = mobilenet.MobileNet(weights='imagenet', include_top=False)\n",
    "\n",
    "num_epochs = 30 # choose the number of epochs\n",
    "print ('# epochs =', num_epochs)\n",
    "batch_size = 64  #experiment with the batch size\n",
    "print ('# batch size =', batch_size)\n",
    "num_frames = 20\n",
    "print ('# num_frames per video =', num_frames)\n",
    "num_images = num_frames\n",
    "height = 120\n",
    "width = 120\n",
    "\n",
    "model7 = Sequential([\n",
    "    TimeDistributed(mobilenet, input_shape=(num_images, height, width, 3))\n",
    "], name=\"mobilenet_lstm\")\n",
    "\n",
    "for layer in model7.layers:\n",
    "    layer.trainable = False\n",
    "\n",
    "model7.add(TimeDistributed(BatchNormalization()))\n",
    "model7.add(TimeDistributed(MaxPooling2D(make2dFilter(2))))\n",
    "model7.add(TimeDistributed(Flatten()))\n",
    "\n",
    "model7.add(LSTM(256))\n",
    "model7.add(Dropout(0.2))\n",
    "\n",
    "model7.add(Dense(256,activation='relu'))\n",
    "model7.add(Dropout(0.2))\n",
    "\n",
    "model7.add(Dense(5, activation='softmax'))\n",
    "\n",
    "optimizer = tf.keras.optimizers.Adam() #write your optimizer\n",
    "model7.compile(optimizer=optimizer, loss='categorical_crossentropy', metrics=['categorical_accuracy'])\n",
    "\n",
    "print(model7.summary())"
   ]
  },
  {
   "cell_type": "code",
   "execution_count": 38,
   "metadata": {},
   "outputs": [
    {
     "name": "stdout",
     "output_type": "stream",
     "text": [
      "WARNING:tensorflow:`period` argument is deprecated. Please use `save_freq` to specify the frequency in number of batches seen.\n"
     ]
    }
   ],
   "source": [
    "callbacks_list = model_callbacks(\"model7_transferLearning_LSTM\")\n",
    "\n",
    "steps_per_epoch, validation_steps = calculate_steps(num_train_sequences, num_val_sequences, batch_size)\n",
    "\n",
    "train_generator = generate(train_path, train_doc, batch_size, num_images=num_frames)\n",
    "\n",
    "val_generator   = generate(val_path, val_doc, batch_size, num_images=num_frames)"
   ]
  },
  {
   "cell_type": "code",
   "execution_count": 39,
   "metadata": {},
   "outputs": [
    {
     "name": "stdout",
     "output_type": "stream",
     "text": [
      "Epoch 1/30\n",
      "11/11 [==============================] - ETA: 0s - loss: 1.4373 - categorical_accuracy: 0.4057\n",
      "Epoch 00001: val_loss improved from inf to 1.21476, saving model to model7_transferLearning_LSTM_2024-09-0305_55_43.766329/model-00001-1.43728-0.40573-1.21476-0.52000.h5\n",
      "11/11 [==============================] - 114s 11s/step - loss: 1.4373 - categorical_accuracy: 0.4057 - val_loss: 1.2148 - val_categorical_accuracy: 0.5200 - lr: 0.0010\n",
      "Epoch 2/30\n",
      "11/11 [==============================] - ETA: 0s - loss: 0.6906 - categorical_accuracy: 0.7873\n",
      "Epoch 00002: val_loss improved from 1.21476 to 0.77453, saving model to model7_transferLearning_LSTM_2024-09-0305_55_43.766329/model-00002-0.69063-0.78733-0.77453-0.72000.h5\n",
      "11/11 [==============================] - 104s 10s/step - loss: 0.6906 - categorical_accuracy: 0.7873 - val_loss: 0.7745 - val_categorical_accuracy: 0.7200 - lr: 0.0010\n",
      "Epoch 3/30\n",
      "11/11 [==============================] - ETA: 0s - loss: 0.3121 - categorical_accuracy: 0.9125\n",
      "Epoch 00003: val_loss improved from 0.77453 to 0.69387, saving model to model7_transferLearning_LSTM_2024-09-0305_55_43.766329/model-00003-0.31212-0.91252-0.69387-0.76000.h5\n",
      "11/11 [==============================] - 110s 11s/step - loss: 0.3121 - categorical_accuracy: 0.9125 - val_loss: 0.6939 - val_categorical_accuracy: 0.7600 - lr: 0.0010\n",
      "Epoch 4/30\n",
      "11/11 [==============================] - ETA: 0s - loss: 0.1299 - categorical_accuracy: 0.9668\n",
      "Epoch 00004: val_loss did not improve from 0.69387\n",
      "11/11 [==============================] - 113s 11s/step - loss: 0.1299 - categorical_accuracy: 0.9668 - val_loss: 1.1643 - val_categorical_accuracy: 0.5500 - lr: 0.0010\n",
      "Epoch 5/30\n",
      "11/11 [==============================] - ETA: 0s - loss: 0.0562 - categorical_accuracy: 0.9925\n",
      "Epoch 00005: val_loss did not improve from 0.69387\n",
      "11/11 [==============================] - 107s 11s/step - loss: 0.0562 - categorical_accuracy: 0.9925 - val_loss: 0.8077 - val_categorical_accuracy: 0.7000 - lr: 0.0010\n",
      "Epoch 6/30\n",
      "11/11 [==============================] - ETA: 0s - loss: 0.0216 - categorical_accuracy: 0.9985\n",
      "Epoch 00006: val_loss did not improve from 0.69387\n",
      "\n",
      "Epoch 00006: ReduceLROnPlateau reducing learning rate to 0.00010000000474974513.\n",
      "11/11 [==============================] - 106s 11s/step - loss: 0.0216 - categorical_accuracy: 0.9985 - val_loss: 0.8458 - val_categorical_accuracy: 0.7000 - lr: 0.0010\n",
      "Epoch 7/30\n",
      "11/11 [==============================] - ETA: 0s - loss: 0.0137 - categorical_accuracy: 1.0000\n",
      "Epoch 00007: val_loss did not improve from 0.69387\n",
      "11/11 [==============================] - 108s 11s/step - loss: 0.0137 - categorical_accuracy: 1.0000 - val_loss: 0.9579 - val_categorical_accuracy: 0.6800 - lr: 1.0000e-04\n",
      "Epoch 8/30\n",
      "11/11 [==============================] - ETA: 0s - loss: 0.0095 - categorical_accuracy: 1.0000\n",
      "Epoch 00008: val_loss did not improve from 0.69387\n",
      "11/11 [==============================] - 103s 10s/step - loss: 0.0095 - categorical_accuracy: 1.0000 - val_loss: 1.0444 - val_categorical_accuracy: 0.6900 - lr: 1.0000e-04\n",
      "Epoch 9/30\n",
      "11/11 [==============================] - ETA: 0s - loss: 0.0092 - categorical_accuracy: 1.0000\n",
      "Epoch 00009: val_loss did not improve from 0.69387\n",
      "\n",
      "Epoch 00009: ReduceLROnPlateau reducing learning rate to 0.0001.\n",
      "11/11 [==============================] - 105s 10s/step - loss: 0.0092 - categorical_accuracy: 1.0000 - val_loss: 0.9632 - val_categorical_accuracy: 0.7000 - lr: 1.0000e-04\n",
      "Epoch 10/30\n",
      "11/11 [==============================] - ETA: 0s - loss: 0.0089 - categorical_accuracy: 1.0000\n",
      "Epoch 00010: val_loss did not improve from 0.69387\n",
      "11/11 [==============================] - 100s 10s/step - loss: 0.0089 - categorical_accuracy: 1.0000 - val_loss: 1.0821 - val_categorical_accuracy: 0.7000 - lr: 1.0000e-04\n",
      "Epoch 11/30\n",
      "11/11 [==============================] - ETA: 0s - loss: 0.0068 - categorical_accuracy: 1.0000\n",
      "Epoch 00011: val_loss did not improve from 0.69387\n",
      "11/11 [==============================] - 106s 11s/step - loss: 0.0068 - categorical_accuracy: 1.0000 - val_loss: 0.9790 - val_categorical_accuracy: 0.7100 - lr: 1.0000e-04\n",
      "Epoch 12/30\n",
      "11/11 [==============================] - ETA: 0s - loss: 0.0076 - categorical_accuracy: 1.0000\n",
      "Epoch 00012: val_loss did not improve from 0.69387\n",
      "11/11 [==============================] - 100s 10s/step - loss: 0.0076 - categorical_accuracy: 1.0000 - val_loss: 0.9690 - val_categorical_accuracy: 0.7300 - lr: 1.0000e-04\n",
      "Epoch 13/30\n",
      "11/11 [==============================] - ETA: 0s - loss: 0.0076 - categorical_accuracy: 1.0000\n",
      "Epoch 00013: val_loss did not improve from 0.69387\n",
      "11/11 [==============================] - 104s 10s/step - loss: 0.0076 - categorical_accuracy: 1.0000 - val_loss: 0.9930 - val_categorical_accuracy: 0.7000 - lr: 1.0000e-04\n",
      "Epoch 14/30\n",
      "11/11 [==============================] - ETA: 0s - loss: 0.0068 - categorical_accuracy: 1.0000\n",
      "Epoch 00014: val_loss did not improve from 0.69387\n",
      "11/11 [==============================] - 102s 10s/step - loss: 0.0068 - categorical_accuracy: 1.0000 - val_loss: 1.0491 - val_categorical_accuracy: 0.7200 - lr: 1.0000e-04\n",
      "Epoch 15/30\n",
      "11/11 [==============================] - ETA: 0s - loss: 0.0058 - categorical_accuracy: 1.0000\n",
      "Epoch 00015: val_loss did not improve from 0.69387\n",
      "11/11 [==============================] - 106s 11s/step - loss: 0.0058 - categorical_accuracy: 1.0000 - val_loss: 0.9994 - val_categorical_accuracy: 0.7200 - lr: 1.0000e-04\n",
      "Epoch 16/30\n",
      "11/11 [==============================] - ETA: 0s - loss: 0.0057 - categorical_accuracy: 1.0000\n",
      "Epoch 00016: val_loss did not improve from 0.69387\n",
      "11/11 [==============================] - 102s 10s/step - loss: 0.0057 - categorical_accuracy: 1.0000 - val_loss: 0.9595 - val_categorical_accuracy: 0.7100 - lr: 1.0000e-04\n",
      "Epoch 17/30\n",
      "11/11 [==============================] - ETA: 0s - loss: 0.0054 - categorical_accuracy: 1.0000\n",
      "Epoch 00017: val_loss did not improve from 0.69387\n",
      "11/11 [==============================] - 104s 10s/step - loss: 0.0054 - categorical_accuracy: 1.0000 - val_loss: 0.9743 - val_categorical_accuracy: 0.7300 - lr: 1.0000e-04\n",
      "Epoch 18/30\n",
      "11/11 [==============================] - ETA: 0s - loss: 0.0047 - categorical_accuracy: 1.0000\n",
      "Epoch 00018: val_loss did not improve from 0.69387\n",
      "11/11 [==============================] - 105s 10s/step - loss: 0.0047 - categorical_accuracy: 1.0000 - val_loss: 0.9495 - val_categorical_accuracy: 0.7200 - lr: 1.0000e-04\n",
      "Epoch 19/30\n",
      "11/11 [==============================] - ETA: 0s - loss: 0.0044 - categorical_accuracy: 1.0000\n",
      "Epoch 00019: val_loss did not improve from 0.69387\n",
      "11/11 [==============================] - 104s 10s/step - loss: 0.0044 - categorical_accuracy: 1.0000 - val_loss: 0.9635 - val_categorical_accuracy: 0.7100 - lr: 1.0000e-04\n",
      "Epoch 20/30\n",
      "11/11 [==============================] - ETA: 0s - loss: 0.0051 - categorical_accuracy: 1.0000\n",
      "Epoch 00020: val_loss did not improve from 0.69387\n",
      "11/11 [==============================] - 100s 10s/step - loss: 0.0051 - categorical_accuracy: 1.0000 - val_loss: 1.0199 - val_categorical_accuracy: 0.6800 - lr: 1.0000e-04\n",
      "Epoch 21/30\n",
      "11/11 [==============================] - ETA: 0s - loss: 0.0038 - categorical_accuracy: 1.0000\n",
      "Epoch 00021: val_loss did not improve from 0.69387\n",
      "11/11 [==============================] - 103s 10s/step - loss: 0.0038 - categorical_accuracy: 1.0000 - val_loss: 0.9635 - val_categorical_accuracy: 0.7100 - lr: 1.0000e-04\n",
      "Epoch 22/30\n",
      "11/11 [==============================] - ETA: 0s - loss: 0.0053 - categorical_accuracy: 1.0000\n",
      "Epoch 00022: val_loss did not improve from 0.69387\n",
      "11/11 [==============================] - 98s 10s/step - loss: 0.0053 - categorical_accuracy: 1.0000 - val_loss: 1.0603 - val_categorical_accuracy: 0.7100 - lr: 1.0000e-04\n",
      "Epoch 23/30\n",
      "11/11 [==============================] - ETA: 0s - loss: 0.0033 - categorical_accuracy: 1.0000\n",
      "Epoch 00023: val_loss did not improve from 0.69387\n",
      "11/11 [==============================] - 104s 10s/step - loss: 0.0033 - categorical_accuracy: 1.0000 - val_loss: 0.9649 - val_categorical_accuracy: 0.7000 - lr: 1.0000e-04\n",
      "Epoch 24/30\n",
      "11/11 [==============================] - ETA: 0s - loss: 0.0038 - categorical_accuracy: 1.0000\n",
      "Epoch 00024: val_loss did not improve from 0.69387\n",
      "11/11 [==============================] - 99s 10s/step - loss: 0.0038 - categorical_accuracy: 1.0000 - val_loss: 0.8650 - val_categorical_accuracy: 0.7100 - lr: 1.0000e-04\n",
      "Epoch 25/30\n",
      "11/11 [==============================] - ETA: 0s - loss: 0.0039 - categorical_accuracy: 1.0000\n",
      "Epoch 00025: val_loss did not improve from 0.69387\n",
      "11/11 [==============================] - 103s 10s/step - loss: 0.0039 - categorical_accuracy: 1.0000 - val_loss: 0.9793 - val_categorical_accuracy: 0.7100 - lr: 1.0000e-04\n",
      "Epoch 26/30\n",
      "11/11 [==============================] - ETA: 0s - loss: 0.0031 - categorical_accuracy: 1.0000\n",
      "Epoch 00026: val_loss did not improve from 0.69387\n",
      "11/11 [==============================] - 100s 10s/step - loss: 0.0031 - categorical_accuracy: 1.0000 - val_loss: 1.0450 - val_categorical_accuracy: 0.6900 - lr: 1.0000e-04\n",
      "Epoch 27/30\n",
      "11/11 [==============================] - ETA: 0s - loss: 0.0029 - categorical_accuracy: 1.0000\n",
      "Epoch 00027: val_loss did not improve from 0.69387\n",
      "11/11 [==============================] - 103s 10s/step - loss: 0.0029 - categorical_accuracy: 1.0000 - val_loss: 0.9819 - val_categorical_accuracy: 0.7000 - lr: 1.0000e-04\n",
      "Epoch 28/30\n",
      "11/11 [==============================] - ETA: 0s - loss: 0.0027 - categorical_accuracy: 1.0000\n",
      "Epoch 00028: val_loss did not improve from 0.69387\n",
      "11/11 [==============================] - 100s 10s/step - loss: 0.0027 - categorical_accuracy: 1.0000 - val_loss: 1.0210 - val_categorical_accuracy: 0.6900 - lr: 1.0000e-04\n",
      "Epoch 29/30\n",
      "11/11 [==============================] - ETA: 0s - loss: 0.0026 - categorical_accuracy: 1.0000\n",
      "Epoch 00029: val_loss did not improve from 0.69387\n",
      "11/11 [==============================] - 103s 10s/step - loss: 0.0026 - categorical_accuracy: 1.0000 - val_loss: 0.9943 - val_categorical_accuracy: 0.7000 - lr: 1.0000e-04\n",
      "Epoch 30/30\n",
      "11/11 [==============================] - ETA: 0s - loss: 0.0035 - categorical_accuracy: 1.0000\n",
      "Epoch 00030: val_loss did not improve from 0.69387\n",
      "11/11 [==============================] - 101s 10s/step - loss: 0.0035 - categorical_accuracy: 1.0000 - val_loss: 1.0175 - val_categorical_accuracy: 0.6600 - lr: 1.0000e-04\n"
     ]
    }
   ],
   "source": [
    "model7_history = model7.fit(train_generator, steps_per_epoch=steps_per_epoch, epochs=num_epochs, verbose=1, \n",
    "                              callbacks=callbacks_list, validation_data=val_generator, \n",
    "                              validation_steps=validation_steps, class_weight=None, initial_epoch=0)"
   ]
  },
  {
   "cell_type": "code",
   "execution_count": 40,
   "metadata": {},
   "outputs": [
    {
     "name": "stdout",
     "output_type": "stream",
     "text": [
      "dict_keys(['loss', 'categorical_accuracy', 'val_loss', 'val_categorical_accuracy', 'lr'])\n"
     ]
    },
    {
     "data": {
      "image/png": "[encoded data removed]",
      "text/plain": [
       "<Figure size 432x288 with 1 Axes>"
      ]
     },
     "metadata": {
      "needs_background": "light"
     },
     "output_type": "display_data"
    },
    {
     "data": {
      "image/png": "[encoded data removed]",
      "text/plain": [
       "<Figure size 432x288 with 1 Axes>"
      ]
     },
     "metadata": {
      "needs_background": "light"
     },
     "output_type": "display_data"
    },
    {
     "name": "stdout",
     "output_type": "stream",
     "text": [
      "Max. Training Accuracy 1.0\n",
      "Max. Validaiton Accuracy 0.7599999904632568\n"
     ]
    }
   ],
   "source": [
    "plot_loss_accuracy(model7_history)"
   ]
  },
  {
   "cell_type": "markdown",
   "metadata": {},
   "source": [
    "### Model 8: Switching Model architecture to Conv2D+GRU"
   ]
  },
  {
   "cell_type": "code",
   "execution_count": 41,
   "metadata": {},
   "outputs": [],
   "source": [
    "from keras.applications import mobilenet"
   ]
  },
  {
   "cell_type": "code",
   "execution_count": null,
   "metadata": {},
   "outputs": [
    {
     "name": "stdout",
     "output_type": "stream",
     "text": [
      "# epochs = 30\n",
      "# batch size = 32\n",
      "# num frames per video = 20\n",
      "Model: \"conv_2d_gru\"\n",
      "_________________________________________________________________\n",
      " Layer (type)                Output Shape              Param #   \n",
      "=================================================================\n",
      " time_distributed_20 (TimeDi  (None, 20, 120, 120, 16)  448      \n",
      " stributed)                                                      \n",
      "                                                                 \n",
      " time_distributed_21 (TimeDi  (None, 20, 120, 120, 16)  64       \n",
      " stributed)                                                      \n",
      "                                                                 \n",
      " time_distributed_22 (TimeDi  (None, 20, 60, 60, 16)   0         \n",
      " stributed)                                                      \n",
      "                                                                 \n",
      " time_distributed_23 (TimeDi  (None, 20, 60, 60, 32)   4640      \n",
      " stributed)                                                      \n",
      "                                                                 \n",
      " time_distributed_24 (TimeDi  (None, 20, 60, 60, 32)   128       \n",
      " stributed)                                                      \n",
      "                                                                 \n",
      " time_distributed_25 (TimeDi  (None, 20, 30, 30, 32)   0         \n",
      " stributed)                                                      \n",
      "                                                                 \n",
      " time_distributed_26 (TimeDi  (None, 20, 30, 30, 64)   18496     \n",
      " stributed)                                                      \n",
      "                                                                 \n",
      " time_distributed_27 (TimeDi  (None, 20, 30, 30, 64)   256       \n",
      " stributed)                                                      \n",
      "                                                                 \n",
      " time_distributed_28 (TimeDi  (None, 20, 15, 15, 64)   0         \n",
      " stributed)                                                      \n",
      "                                                                 \n",
      " time_distributed_29 (TimeDi  (None, 20, 15, 15, 128)  73856     \n",
      " stributed)                                                      \n",
      "                                                                 \n",
      " time_distributed_30 (TimeDi  (None, 20, 15, 15, 128)  512       \n",
      " stributed)                                                      \n",
      "                                                                 \n",
      " time_distributed_31 (TimeDi  (None, 20, 7, 7, 128)    0         \n",
      " stributed)                                                      \n",
      "                                                                 \n",
      " time_distributed_32 (TimeDi  (None, 20, 7, 7, 256)    295168    \n",
      " stributed)                                                      \n",
      "                                                                 \n",
      " time_distributed_33 (TimeDi  (None, 20, 7, 7, 256)    1024      \n",
      " stributed)                                                      \n",
      "                                                                 \n",
      " time_distributed_34 (TimeDi  (None, 20, 3, 3, 256)    0         \n",
      " stributed)                                                      \n",
      "                                                                 \n",
      " time_distributed_35 (TimeDi  (None, 20, 2304)         0         \n",
      " stributed)                                                      \n",
      "                                                                 \n",
      " gru (GRU)                   (None, 256)               1967616   \n",
      "                                                                 \n",
      " dropout_13 (Dropout)        (None, 256)               0         \n",
      "                                                                 \n",
      " dense_19 (Dense)            (None, 256)               65792     \n",
      "                                                                 \n",
      " dropout_14 (Dropout)        (None, 256)               0         \n",
      "                                                                 \n",
      " dense_20 (Dense)            (None, 5)                 1285      \n",
      "                                                                 \n",
      "=================================================================\n",
      "Total params: 2,429,285\n",
      "Trainable params: 2,428,293\n",
      "Non-trainable params: 992\n",
      "_________________________________________________________________\n",
      "None\n"
     ]
    }
   ],
   "source": [
    "num_epochs = 30 # choose the number of epochs\n",
    "print ('# epochs =', num_epochs)\n",
    "batch_size = 32  #experiment with the batch size\n",
    "print ('# batch size =', batch_size)\n",
    "num_frames = 20\n",
    "print ('# num frames per video =', num_frames)\n",
    "num_images = num_frames\n",
    "height = 120\n",
    "width = 120\n",
    "\n",
    "model8 = Sequential([\n",
    "    TimeDistributed(Conv2D(16, make2dFilter(3), padding='same', activation='relu'), input_shape=(num_images, height, width, 3)),\n",
    "    TimeDistributed(BatchNormalization()),\n",
    "    TimeDistributed(MaxPooling2D(make2dFilter(2))),\n",
    "\n",
    "    TimeDistributed(Conv2D(32, make2dFilter(3), padding='same', activation='relu')),\n",
    "    TimeDistributed(BatchNormalization()),\n",
    "    TimeDistributed(MaxPooling2D(make2dFilter(2))),\n",
    "\n",
    "    TimeDistributed(Conv2D(64, make2dFilter(3), padding='same', activation='relu')),\n",
    "    TimeDistributed(BatchNormalization()),\n",
    "    TimeDistributed(MaxPooling2D(make2dFilter(2))),\n",
    "\n",
    "    TimeDistributed(Conv2D(128, make2dFilter(3), padding='same', activation='relu')),\n",
    "    TimeDistributed(BatchNormalization()),\n",
    "    TimeDistributed(MaxPooling2D(make2dFilter(2))),\n",
    "\n",
    "    TimeDistributed(Conv2D(256, make2dFilter(3), padding='same', activation='relu')),\n",
    "    TimeDistributed(BatchNormalization()),\n",
    "    TimeDistributed(MaxPooling2D(make2dFilter(2))),\n",
    "\n",
    "    TimeDistributed(Flatten()),\n",
    "    GRU(256),\n",
    "    Dropout(0.2),\n",
    "\n",
    "    Dense(256, activation='relu'),\n",
    "    Dropout(0.2),\n",
    "\n",
    "    Dense(5, activation='softmax')\n",
    "], name=\"conv_2d_gru\")\n",
    "\n",
    "optimizer = tf.keras.optimizers.Adam() #write your optimizer\n",
    "model8.compile(optimizer=optimizer, loss='categorical_crossentropy', metrics=['categorical_accuracy'])\n",
    "\n",
    "print(model8.summary())"
   ]
  },
  {
   "cell_type": "code",
   "execution_count": null,
   "metadata": {},
   "outputs": [
    {
     "name": "stdout",
     "output_type": "stream",
     "text": [
      "WARNING:tensorflow:`period` argument is deprecated. Please use `save_freq` to specify the frequency in number of batches seen.\n"
     ]
    }
   ],
   "source": [
    "callbacks_list = model_callbacks(\"model8_Conv2D_GRU\")\n",
    "\n",
    "steps_per_epoch, validation_steps = calculate_steps(num_train_sequences, num_val_sequences, batch_size)\n",
    "\n",
    "train_generator = generate(train_path, train_doc, batch_size, num_images=num_frames)\n",
    "\n",
    "val_generator   = generate(val_path, val_doc, batch_size, num_images=num_frames)"
   ]
  },
  {
   "cell_type": "code",
   "execution_count": null,
   "metadata": {},
   "outputs": [
    {
     "name": "stdout",
     "output_type": "stream",
     "text": [
      "Epoch 1/30\n",
      "21/21 [==============================] - ETA: 0s - loss: 1.3652 - categorical_accuracy: 0.4344\n",
      "Epoch 00001: val_loss improved from inf to 1.55969, saving model to model8_Conv2D_GRU_2024-09-0305_55_43.766329/model-00001-1.36521-0.43439-1.55969-0.30000.h5\n",
      "21/21 [==============================] - 106s 5s/step - loss: 1.3652 - categorical_accuracy: 0.4344 - val_loss: 1.5597 - val_categorical_accuracy: 0.3000 - lr: 0.0010\n",
      "Epoch 2/30\n",
      "21/21 [==============================] - ETA: 0s - loss: 0.8266 - categorical_accuracy: 0.6848\n",
      "Epoch 00002: val_loss did not improve from 1.55969\n",
      "21/21 [==============================] - 104s 5s/step - loss: 0.8266 - categorical_accuracy: 0.6848 - val_loss: 2.3386 - val_categorical_accuracy: 0.1900 - lr: 0.0010\n",
      "Epoch 3/30\n",
      "21/21 [==============================] - ETA: 0s - loss: 0.6142 - categorical_accuracy: 0.7421\n",
      "Epoch 00003: val_loss did not improve from 1.55969\n",
      "21/21 [==============================] - 104s 5s/step - loss: 0.6142 - categorical_accuracy: 0.7421 - val_loss: 2.6685 - val_categorical_accuracy: 0.1300 - lr: 0.0010\n",
      "Epoch 4/30\n",
      "21/21 [==============================] - ETA: 0s - loss: 0.5711 - categorical_accuracy: 0.7738\n",
      "Epoch 00004: val_loss did not improve from 1.55969\n",
      "\n",
      "Epoch 00004: ReduceLROnPlateau reducing learning rate to 0.00010000000474974513.\n",
      "21/21 [==============================] - 102s 5s/step - loss: 0.5711 - categorical_accuracy: 0.7738 - val_loss: 2.2762 - val_categorical_accuracy: 0.1600 - lr: 0.0010\n",
      "Epoch 5/30\n",
      "21/21 [==============================] - ETA: 0s - loss: 0.3871 - categorical_accuracy: 0.8643\n",
      "Epoch 00005: val_loss did not improve from 1.55969\n",
      "21/21 [==============================] - 105s 5s/step - loss: 0.3871 - categorical_accuracy: 0.8643 - val_loss: 2.5422 - val_categorical_accuracy: 0.1600 - lr: 1.0000e-04\n",
      "Epoch 6/30\n",
      "21/21 [==============================] - ETA: 0s - loss: 0.2517 - categorical_accuracy: 0.9216\n",
      "Epoch 00006: val_loss did not improve from 1.55969\n",
      "21/21 [==============================] - 104s 5s/step - loss: 0.2517 - categorical_accuracy: 0.9216 - val_loss: 2.6323 - val_categorical_accuracy: 0.1400 - lr: 1.0000e-04\n",
      "Epoch 7/30\n",
      "21/21 [==============================] - ETA: 0s - loss: 0.1843 - categorical_accuracy: 0.9532\n",
      "Epoch 00007: val_loss did not improve from 1.55969\n",
      "\n",
      "Epoch 00007: ReduceLROnPlateau reducing learning rate to 0.0001.\n",
      "21/21 [==============================] - 104s 5s/step - loss: 0.1843 - categorical_accuracy: 0.9532 - val_loss: 2.9837 - val_categorical_accuracy: 0.1200 - lr: 1.0000e-04\n",
      "Epoch 8/30\n",
      "21/21 [==============================] - ETA: 0s - loss: 0.1576 - categorical_accuracy: 0.9593\n",
      "Epoch 00008: val_loss did not improve from 1.55969\n",
      "21/21 [==============================] - 100s 5s/step - loss: 0.1576 - categorical_accuracy: 0.9593 - val_loss: 2.7916 - val_categorical_accuracy: 0.1600 - lr: 1.0000e-04\n",
      "Epoch 9/30\n",
      "21/21 [==============================] - ETA: 0s - loss: 0.1277 - categorical_accuracy: 0.9804\n",
      "Epoch 00009: val_loss did not improve from 1.55969\n",
      "21/21 [==============================] - 105s 5s/step - loss: 0.1277 - categorical_accuracy: 0.9804 - val_loss: 2.8884 - val_categorical_accuracy: 0.1600 - lr: 1.0000e-04\n",
      "Epoch 10/30\n",
      "21/21 [==============================] - ETA: 0s - loss: 0.0945 - categorical_accuracy: 0.9894\n",
      "Epoch 00010: val_loss did not improve from 1.55969\n",
      "21/21 [==============================] - 102s 5s/step - loss: 0.0945 - categorical_accuracy: 0.9894 - val_loss: 2.9286 - val_categorical_accuracy: 0.1700 - lr: 1.0000e-04\n",
      "Epoch 11/30\n",
      "21/21 [==============================] - ETA: 0s - loss: 0.0870 - categorical_accuracy: 0.9864\n",
      "Epoch 00011: val_loss did not improve from 1.55969\n",
      "21/21 [==============================] - 103s 5s/step - loss: 0.0870 - categorical_accuracy: 0.9864 - val_loss: 3.0085 - val_categorical_accuracy: 0.1800 - lr: 1.0000e-04\n",
      "Epoch 12/30\n",
      "21/21 [==============================] - ETA: 0s - loss: 0.0768 - categorical_accuracy: 0.9849\n",
      "Epoch 00012: val_loss did not improve from 1.55969\n",
      "21/21 [==============================] - 100s 5s/step - loss: 0.0768 - categorical_accuracy: 0.9849 - val_loss: 3.1125 - val_categorical_accuracy: 0.1700 - lr: 1.0000e-04\n",
      "Epoch 13/30\n",
      "21/21 [==============================] - ETA: 0s - loss: 0.0610 - categorical_accuracy: 0.9925\n",
      "Epoch 00013: val_loss did not improve from 1.55969\n",
      "21/21 [==============================] - 103s 5s/step - loss: 0.0610 - categorical_accuracy: 0.9925 - val_loss: 3.1042 - val_categorical_accuracy: 0.1600 - lr: 1.0000e-04\n",
      "Epoch 14/30\n",
      "21/21 [==============================] - ETA: 0s - loss: 0.0444 - categorical_accuracy: 0.9985\n",
      "Epoch 00014: val_loss did not improve from 1.55969\n",
      "21/21 [==============================] - 104s 5s/step - loss: 0.0444 - categorical_accuracy: 0.9985 - val_loss: 3.1652 - val_categorical_accuracy: 0.1500 - lr: 1.0000e-04\n",
      "Epoch 15/30\n",
      "21/21 [==============================] - ETA: 0s - loss: 0.0566 - categorical_accuracy: 0.9925\n",
      "Epoch 00015: val_loss did not improve from 1.55969\n",
      "21/21 [==============================] - 105s 5s/step - loss: 0.0566 - categorical_accuracy: 0.9925 - val_loss: 3.4997 - val_categorical_accuracy: 0.2000 - lr: 1.0000e-04\n",
      "Epoch 16/30\n",
      "21/21 [==============================] - ETA: 0s - loss: 0.0410 - categorical_accuracy: 0.9970\n",
      "Epoch 00016: val_loss did not improve from 1.55969\n",
      "21/21 [==============================] - 101s 5s/step - loss: 0.0410 - categorical_accuracy: 0.9970 - val_loss: 3.2264 - val_categorical_accuracy: 0.2100 - lr: 1.0000e-04\n",
      "Epoch 17/30\n",
      "21/21 [==============================] - ETA: 0s - loss: 0.0344 - categorical_accuracy: 0.9985\n",
      "Epoch 00017: val_loss did not improve from 1.55969\n",
      "21/21 [==============================] - 105s 5s/step - loss: 0.0344 - categorical_accuracy: 0.9985 - val_loss: 3.1999 - val_categorical_accuracy: 0.2600 - lr: 1.0000e-04\n",
      "Epoch 18/30\n",
      "21/21 [==============================] - ETA: 0s - loss: 0.0371 - categorical_accuracy: 0.9955\n",
      "Epoch 00018: val_loss did not improve from 1.55969\n",
      "21/21 [==============================] - 105s 5s/step - loss: 0.0371 - categorical_accuracy: 0.9955 - val_loss: 3.2160 - val_categorical_accuracy: 0.3100 - lr: 1.0000e-04\n",
      "Epoch 19/30\n",
      "21/21 [==============================] - ETA: 0s - loss: 0.0263 - categorical_accuracy: 1.0000\n",
      "Epoch 00019: val_loss did not improve from 1.55969\n",
      "21/21 [==============================] - 102s 5s/step - loss: 0.0263 - categorical_accuracy: 1.0000 - val_loss: 3.4720 - val_categorical_accuracy: 0.2500 - lr: 1.0000e-04\n",
      "Epoch 20/30\n",
      "21/21 [==============================] - ETA: 0s - loss: 0.0207 - categorical_accuracy: 1.0000\n",
      "Epoch 00020: val_loss did not improve from 1.55969\n",
      "21/21 [==============================] - 99s 5s/step - loss: 0.0207 - categorical_accuracy: 1.0000 - val_loss: 3.2768 - val_categorical_accuracy: 0.3100 - lr: 1.0000e-04\n",
      "Epoch 21/30\n",
      "21/21 [==============================] - ETA: 0s - loss: 0.0175 - categorical_accuracy: 1.0000\n",
      "Epoch 00021: val_loss did not improve from 1.55969\n",
      "21/21 [==============================] - 103s 5s/step - loss: 0.0175 - categorical_accuracy: 1.0000 - val_loss: 3.3722 - val_categorical_accuracy: 0.3300 - lr: 1.0000e-04\n",
      "Epoch 22/30\n",
      "21/21 [==============================] - ETA: 0s - loss: 0.0203 - categorical_accuracy: 1.0000\n",
      "Epoch 00022: val_loss did not improve from 1.55969\n",
      "21/21 [==============================] - 104s 5s/step - loss: 0.0203 - categorical_accuracy: 1.0000 - val_loss: 2.7596 - val_categorical_accuracy: 0.3700 - lr: 1.0000e-04\n",
      "Epoch 23/30\n",
      "21/21 [==============================] - ETA: 0s - loss: 0.0168 - categorical_accuracy: 1.0000\n",
      "Epoch 00023: val_loss did not improve from 1.55969\n",
      "21/21 [==============================] - 103s 5s/step - loss: 0.0168 - categorical_accuracy: 1.0000 - val_loss: 3.7059 - val_categorical_accuracy: 0.2600 - lr: 1.0000e-04\n",
      "Epoch 24/30\n",
      "21/21 [==============================] - ETA: 0s - loss: 0.0182 - categorical_accuracy: 0.9985\n",
      "Epoch 00024: val_loss did not improve from 1.55969\n",
      "21/21 [==============================] - 103s 5s/step - loss: 0.0182 - categorical_accuracy: 0.9985 - val_loss: 2.7718 - val_categorical_accuracy: 0.4100 - lr: 1.0000e-04\n",
      "Epoch 25/30\n",
      "21/21 [==============================] - ETA: 0s - loss: 0.0149 - categorical_accuracy: 1.0000\n",
      "Epoch 00025: val_loss did not improve from 1.55969\n",
      "21/21 [==============================] - 106s 5s/step - loss: 0.0149 - categorical_accuracy: 1.0000 - val_loss: 2.3924 - val_categorical_accuracy: 0.4800 - lr: 1.0000e-04\n",
      "Epoch 26/30\n",
      "21/21 [==============================] - ETA: 0s - loss: 0.0131 - categorical_accuracy: 0.9985\n",
      "Epoch 00026: val_loss did not improve from 1.55969\n",
      "21/21 [==============================] - 110s 6s/step - loss: 0.0131 - categorical_accuracy: 0.9985 - val_loss: 2.1924 - val_categorical_accuracy: 0.4400 - lr: 1.0000e-04\n",
      "Epoch 27/30\n",
      "21/21 [==============================] - ETA: 0s - loss: 0.0121 - categorical_accuracy: 1.0000\n",
      "Epoch 00027: val_loss did not improve from 1.55969\n",
      "21/21 [==============================] - 106s 5s/step - loss: 0.0121 - categorical_accuracy: 1.0000 - val_loss: 1.6925 - val_categorical_accuracy: 0.5900 - lr: 1.0000e-04\n",
      "Epoch 28/30\n",
      "21/21 [==============================] - ETA: 0s - loss: 0.0125 - categorical_accuracy: 1.0000\n",
      "Epoch 00028: val_loss did not improve from 1.55969\n",
      "21/21 [==============================] - 104s 5s/step - loss: 0.0125 - categorical_accuracy: 1.0000 - val_loss: 1.7737 - val_categorical_accuracy: 0.5600 - lr: 1.0000e-04\n",
      "Epoch 29/30\n",
      "21/21 [==============================] - ETA: 0s - loss: 0.0106 - categorical_accuracy: 1.0000\n",
      "Epoch 00029: val_loss improved from 1.55969 to 1.43335, saving model to model8_Conv2D_GRU_2024-09-0305_55_43.766329/model-00029-0.01057-1.00000-1.43335-0.62000.h5\n",
      "21/21 [==============================] - 106s 5s/step - loss: 0.0106 - categorical_accuracy: 1.0000 - val_loss: 1.4333 - val_categorical_accuracy: 0.6200 - lr: 1.0000e-04\n",
      "Epoch 30/30\n",
      "21/21 [==============================] - ETA: 0s - loss: 0.0083 - categorical_accuracy: 1.0000\n",
      "Epoch 00030: val_loss improved from 1.43335 to 1.11531, saving model to model8_Conv2D_GRU_2024-09-0305_55_43.766329/model-00030-0.00830-1.00000-1.11531-0.66000.h5\n",
      "21/21 [==============================] - 107s 5s/step - loss: 0.0083 - categorical_accuracy: 1.0000 - val_loss: 1.1153 - val_categorical_accuracy: 0.6600 - lr: 1.0000e-04\n"
     ]
    }
   ],
   "source": [
    "model8_history = model8.fit(train_generator, steps_per_epoch=steps_per_epoch, epochs=num_epochs, verbose=1, \n",
    "                              callbacks=callbacks_list, validation_data=val_generator, \n",
    "                              validation_steps=validation_steps, class_weight=None, initial_epoch=0)"
   ]
  },
  {
   "cell_type": "code",
   "execution_count": null,
   "metadata": {},
   "outputs": [
    {
     "name": "stdout",
     "output_type": "stream",
     "text": [
      "dict_keys(['loss', 'categorical_accuracy', 'val_loss', 'val_categorical_accuracy', 'lr'])\n"
     ]
    },
    {
     "data": {
      "image/png": "[encoded data removed]",
      "text/plain": [
       "<Figure size 432x288 with 1 Axes>"
      ]
     },
     "metadata": {
      "needs_background": "light"
     },
     "output_type": "display_data"
    },
    {
     "data": {
      "image/png": "[encoded data removed]",
      "text/plain": [
       "<Figure size 432x288 with 1 Axes>"
      ]
     },
     "metadata": {
      "needs_background": "light"
     },
     "output_type": "display_data"
    },
    {
     "name": "stdout",
     "output_type": "stream",
     "text": [
      "Max. Training Accuracy 1.0\n",
      "Max. Validaiton Accuracy 0.6600000262260437\n"
     ]
    }
   ],
   "source": [
    "plot_loss_accuracy(model8_history)"
   ]
  },
  {
   "cell_type": "markdown",
   "metadata": {},
   "source": [
    "### Model 9: Transfer Learning (MobileNet) with GRU"
   ]
  },
  {
   "cell_type": "code",
   "execution_count": 55,
   "metadata": {},
   "outputs": [
    {
     "name": "stdout",
     "output_type": "stream",
     "text": [
      "WARNING:tensorflow:`input_shape` is undefined or non-square, or `rows` is not in [128, 160, 192, 224]. Weights for input shape (224, 224) will be loaded as the default.\n",
      "# epochs = 30\n",
      "# batch size = 32\n",
      "# num frames per video = 20\n",
      "Model: \"mobilenet_lstm\"\n",
      "_________________________________________________________________\n",
      " Layer (type)                Output Shape              Param #   \n",
      "=================================================================\n",
      " time_distributed_48 (TimeDi  (None, 20, 3, 3, 1024)   3228864   \n",
      " stributed)                                                      \n",
      "                                                                 \n",
      " time_distributed_49 (TimeDi  (None, 20, 3, 3, 1024)   4096      \n",
      " stributed)                                                      \n",
      "                                                                 \n",
      " time_distributed_50 (TimeDi  (None, 20, 1, 1, 1024)   0         \n",
      " stributed)                                                      \n",
      "                                                                 \n",
      " time_distributed_51 (TimeDi  (None, 20, 1024)         0         \n",
      " stributed)                                                      \n",
      "                                                                 \n",
      " gru_4 (GRU)                 (None, 256)               984576    \n",
      "                                                                 \n",
      " dropout_21 (Dropout)        (None, 256)               0         \n",
      "                                                                 \n",
      " dense_27 (Dense)            (None, 256)               65792     \n",
      "                                                                 \n",
      " dropout_22 (Dropout)        (None, 256)               0         \n",
      "                                                                 \n",
      " dense_28 (Dense)            (None, 5)                 1285      \n",
      "                                                                 \n",
      "=================================================================\n",
      "Total params: 4,284,613\n",
      "Trainable params: 4,260,677\n",
      "Non-trainable params: 23,936\n",
      "_________________________________________________________________\n",
      "None\n"
     ]
    }
   ],
   "source": [
    "from tensorflow.keras.applications import mobilenet\n",
    "\n",
    "mobilenet = mobilenet.MobileNet(weights='imagenet', include_top=False)\n",
    "\n",
    "num_epochs = 30 # choose the number of epochs\n",
    "print ('# epochs =', num_epochs)\n",
    "batch_size = 32  #experiment with the batch size\n",
    "print ('# batch size =', batch_size)\n",
    "num_frames = 20\n",
    "print ('# num frames per video =', num_frames)\n",
    "num_images = num_frames\n",
    "\n",
    "height = 120\n",
    "width = 120\n",
    "\n",
    "model9 = Sequential([\n",
    "    TimeDistributed(mobilenet, input_shape=(num_images, height, width, 3))\n",
    "], name=\"mobilenet_lstm\")\n",
    "\n",
    "for layer in model7.layers:\n",
    "    layer.trainable = False\n",
    "\n",
    "model9.add(TimeDistributed(BatchNormalization()))\n",
    "model9.add(TimeDistributed(MaxPooling2D(make2dFilter(2))))\n",
    "model9.add(TimeDistributed(Flatten()))\n",
    "\n",
    "model9.add(GRU(256))\n",
    "model9.add(Dropout(0.2))\n",
    "\n",
    "model9.add(Dense(256,activation='relu'))\n",
    "model9.add(Dropout(0.2))\n",
    "\n",
    "model9.add(Dense(5, activation='softmax'))\n",
    "\n",
    "optimizer = tf.keras.optimizers.Adam() #write your optimizer\n",
    "model9.compile(optimizer=optimizer, loss='categorical_crossentropy', metrics=['categorical_accuracy'])\n",
    "\n",
    "print(model9.summary())"
   ]
  },
  {
   "cell_type": "code",
   "execution_count": 56,
   "metadata": {},
   "outputs": [
    {
     "name": "stdout",
     "output_type": "stream",
     "text": [
      "WARNING:tensorflow:`period` argument is deprecated. Please use `save_freq` to specify the frequency in number of batches seen.\n"
     ]
    }
   ],
   "source": [
    "callbacks_list = model_callbacks(\"model9_transferLearning_GRU\")\n",
    "\n",
    "steps_per_epoch, validation_steps = calculate_steps(num_train_sequences, num_val_sequences, batch_size)\n",
    "\n",
    "train_generator = generate(train_path, train_doc, batch_size, augment=True, num_images=num_frames)\n",
    "\n",
    "val_generator   = generate(val_path, val_doc, batch_size, num_images=num_frames)"
   ]
  },
  {
   "cell_type": "code",
   "execution_count": 57,
   "metadata": {},
   "outputs": [
    {
     "name": "stdout",
     "output_type": "stream",
     "text": [
      "Epoch 1/30\n",
      "21/21 [==============================] - ETA: 0s - loss: 1.1202 - categorical_accuracy: 0.5460\n",
      "Epoch 00001: val_loss improved from inf to 0.93827, saving model to model9_transferLearning_GRU_2024-09-0305_55_43.766329/model-00001-1.12021-0.54600-0.93827-0.58000.h5\n",
      "21/21 [==============================] - 126s 6s/step - loss: 1.1202 - categorical_accuracy: 0.5460 - val_loss: 0.9383 - val_categorical_accuracy: 0.5800 - lr: 0.0010\n",
      "Epoch 2/30\n",
      "21/21 [==============================] - ETA: 0s - loss: 0.3608 - categorical_accuracy: 0.8658\n",
      "Epoch 00002: val_loss improved from 0.93827 to 0.71114, saving model to model9_transferLearning_GRU_2024-09-0305_55_43.766329/model-00002-0.36077-0.86576-0.71114-0.69000.h5\n",
      "21/21 [==============================] - 122s 6s/step - loss: 0.3608 - categorical_accuracy: 0.8658 - val_loss: 0.7111 - val_categorical_accuracy: 0.6900 - lr: 0.0010\n",
      "Epoch 3/30\n",
      "21/21 [==============================] - ETA: 0s - loss: 0.1398 - categorical_accuracy: 0.9502\n",
      "Epoch 00003: val_loss improved from 0.71114 to 0.70162, saving model to model9_transferLearning_GRU_2024-09-0305_55_43.766329/model-00003-0.13980-0.95023-0.70162-0.75000.h5\n",
      "21/21 [==============================] - 122s 6s/step - loss: 0.1398 - categorical_accuracy: 0.9502 - val_loss: 0.7016 - val_categorical_accuracy: 0.7500 - lr: 0.0010\n",
      "Epoch 4/30\n",
      "21/21 [==============================] - ETA: 0s - loss: 0.0944 - categorical_accuracy: 0.9698\n",
      "Epoch 00004: val_loss improved from 0.70162 to 0.23044, saving model to model9_transferLearning_GRU_2024-09-0305_55_43.766329/model-00004-0.09442-0.96983-0.23044-0.92000.h5\n",
      "21/21 [==============================] - 115s 6s/step - loss: 0.0944 - categorical_accuracy: 0.9698 - val_loss: 0.2304 - val_categorical_accuracy: 0.9200 - lr: 0.0010\n",
      "Epoch 5/30\n",
      "21/21 [==============================] - ETA: 0s - loss: 0.0530 - categorical_accuracy: 0.9849\n",
      "Epoch 00005: val_loss did not improve from 0.23044\n",
      "21/21 [==============================] - 119s 6s/step - loss: 0.0530 - categorical_accuracy: 0.9849 - val_loss: 0.7869 - val_categorical_accuracy: 0.8100 - lr: 0.0010\n",
      "Epoch 6/30\n",
      "21/21 [==============================] - ETA: 0s - loss: 0.1292 - categorical_accuracy: 0.9578\n",
      "Epoch 00006: val_loss improved from 0.23044 to 0.18262, saving model to model9_transferLearning_GRU_2024-09-0305_55_43.766329/model-00006-0.12922-0.95777-0.18262-0.94000.h5\n",
      "21/21 [==============================] - 119s 6s/step - loss: 0.1292 - categorical_accuracy: 0.9578 - val_loss: 0.1826 - val_categorical_accuracy: 0.9400 - lr: 0.0010\n",
      "Epoch 7/30\n",
      "21/21 [==============================] - ETA: 0s - loss: 0.0836 - categorical_accuracy: 0.9653\n",
      "Epoch 00007: val_loss did not improve from 0.18262\n",
      "21/21 [==============================] - 121s 6s/step - loss: 0.0836 - categorical_accuracy: 0.9653 - val_loss: 1.1267 - val_categorical_accuracy: 0.7400 - lr: 0.0010\n",
      "Epoch 8/30\n",
      "21/21 [==============================] - ETA: 0s - loss: 0.0692 - categorical_accuracy: 0.9774\n",
      "Epoch 00008: val_loss did not improve from 0.18262\n",
      "21/21 [==============================] - 115s 6s/step - loss: 0.0692 - categorical_accuracy: 0.9774 - val_loss: 0.2284 - val_categorical_accuracy: 0.9400 - lr: 0.0010\n",
      "Epoch 9/30\n",
      "21/21 [==============================] - ETA: 0s - loss: 0.0500 - categorical_accuracy: 0.9789\n",
      "Epoch 00009: val_loss did not improve from 0.18262\n",
      "\n",
      "Epoch 00009: ReduceLROnPlateau reducing learning rate to 0.00010000000474974513.\n",
      "21/21 [==============================] - 119s 6s/step - loss: 0.0500 - categorical_accuracy: 0.9789 - val_loss: 0.4062 - val_categorical_accuracy: 0.8600 - lr: 0.0010\n",
      "Epoch 10/30\n",
      "21/21 [==============================] - ETA: 0s - loss: 0.0571 - categorical_accuracy: 0.9849\n",
      "Epoch 00010: val_loss improved from 0.18262 to 0.16968, saving model to model9_transferLearning_GRU_2024-09-0305_55_43.766329/model-00010-0.05711-0.98492-0.16968-0.96000.h5\n",
      "21/21 [==============================] - 121s 6s/step - loss: 0.0571 - categorical_accuracy: 0.9849 - val_loss: 0.1697 - val_categorical_accuracy: 0.9600 - lr: 1.0000e-04\n",
      "Epoch 11/30\n",
      "21/21 [==============================] - ETA: 0s - loss: 0.0069 - categorical_accuracy: 1.0000\n",
      "Epoch 00011: val_loss improved from 0.16968 to 0.14264, saving model to model9_transferLearning_GRU_2024-09-0305_55_43.766329/model-00011-0.00689-1.00000-0.14264-0.95000.h5\n",
      "21/21 [==============================] - 121s 6s/step - loss: 0.0069 - categorical_accuracy: 1.0000 - val_loss: 0.1426 - val_categorical_accuracy: 0.9500 - lr: 1.0000e-04\n",
      "Epoch 12/30\n",
      "21/21 [==============================] - ETA: 0s - loss: 0.0091 - categorical_accuracy: 0.9985\n",
      "Epoch 00012: val_loss did not improve from 0.14264\n",
      "21/21 [==============================] - 116s 6s/step - loss: 0.0091 - categorical_accuracy: 0.9985 - val_loss: 0.1987 - val_categorical_accuracy: 0.9400 - lr: 1.0000e-04\n",
      "Epoch 13/30\n",
      "21/21 [==============================] - ETA: 0s - loss: 0.0075 - categorical_accuracy: 0.9985\n",
      "Epoch 00013: val_loss did not improve from 0.14264\n",
      "21/21 [==============================] - 119s 6s/step - loss: 0.0075 - categorical_accuracy: 0.9985 - val_loss: 0.1804 - val_categorical_accuracy: 0.9400 - lr: 1.0000e-04\n",
      "Epoch 14/30\n",
      "21/21 [==============================] - ETA: 0s - loss: 0.0076 - categorical_accuracy: 0.9985\n",
      "Epoch 00014: val_loss did not improve from 0.14264\n",
      "\n",
      "Epoch 00014: ReduceLROnPlateau reducing learning rate to 0.0001.\n",
      "21/21 [==============================] - 121s 6s/step - loss: 0.0076 - categorical_accuracy: 0.9985 - val_loss: 0.1699 - val_categorical_accuracy: 0.9500 - lr: 1.0000e-04\n",
      "Epoch 15/30\n",
      "21/21 [==============================] - ETA: 0s - loss: 0.0044 - categorical_accuracy: 1.0000\n",
      "Epoch 00015: val_loss improved from 0.14264 to 0.09743, saving model to model9_transferLearning_GRU_2024-09-0305_55_43.766329/model-00015-0.00435-1.00000-0.09743-0.97000.h5\n",
      "21/21 [==============================] - 123s 6s/step - loss: 0.0044 - categorical_accuracy: 1.0000 - val_loss: 0.0974 - val_categorical_accuracy: 0.9700 - lr: 1.0000e-04\n",
      "Epoch 16/30\n",
      "21/21 [==============================] - ETA: 0s - loss: 0.0050 - categorical_accuracy: 1.0000\n",
      "Epoch 00016: val_loss did not improve from 0.09743\n",
      "21/21 [==============================] - 116s 6s/step - loss: 0.0050 - categorical_accuracy: 1.0000 - val_loss: 0.1420 - val_categorical_accuracy: 0.9600 - lr: 1.0000e-04\n",
      "Epoch 17/30\n",
      "21/21 [==============================] - ETA: 0s - loss: 0.0037 - categorical_accuracy: 1.0000\n",
      "Epoch 00017: val_loss did not improve from 0.09743\n",
      "21/21 [==============================] - 126s 6s/step - loss: 0.0037 - categorical_accuracy: 1.0000 - val_loss: 0.1449 - val_categorical_accuracy: 0.9500 - lr: 1.0000e-04\n",
      "Epoch 18/30\n",
      "21/21 [==============================] - ETA: 0s - loss: 0.0219 - categorical_accuracy: 0.9955\n",
      "Epoch 00018: val_loss did not improve from 0.09743\n",
      "21/21 [==============================] - 126s 6s/step - loss: 0.0219 - categorical_accuracy: 0.9955 - val_loss: 0.1795 - val_categorical_accuracy: 0.9500 - lr: 1.0000e-04\n",
      "Epoch 19/30\n",
      "21/21 [==============================] - ETA: 0s - loss: 0.0046 - categorical_accuracy: 1.0000\n",
      "Epoch 00019: val_loss did not improve from 0.09743\n",
      "21/21 [==============================] - 122s 6s/step - loss: 0.0046 - categorical_accuracy: 1.0000 - val_loss: 0.1608 - val_categorical_accuracy: 0.9300 - lr: 1.0000e-04\n",
      "Epoch 20/30\n",
      "21/21 [==============================] - ETA: 0s - loss: 0.0072 - categorical_accuracy: 0.9970\n",
      "Epoch 00020: val_loss did not improve from 0.09743\n",
      "21/21 [==============================] - 119s 6s/step - loss: 0.0072 - categorical_accuracy: 0.9970 - val_loss: 0.1581 - val_categorical_accuracy: 0.9500 - lr: 1.0000e-04\n",
      "Epoch 21/30\n",
      "21/21 [==============================] - ETA: 0s - loss: 0.0023 - categorical_accuracy: 1.0000\n",
      "Epoch 00021: val_loss did not improve from 0.09743\n",
      "21/21 [==============================] - 124s 6s/step - loss: 0.0023 - categorical_accuracy: 1.0000 - val_loss: 0.1495 - val_categorical_accuracy: 0.9500 - lr: 1.0000e-04\n",
      "Epoch 22/30\n",
      "21/21 [==============================] - ETA: 0s - loss: 0.0020 - categorical_accuracy: 1.0000\n",
      "Epoch 00022: val_loss improved from 0.09743 to 0.05883, saving model to model9_transferLearning_GRU_2024-09-0305_55_43.766329/model-00022-0.00197-1.00000-0.05883-0.98000.h5\n",
      "21/21 [==============================] - 122s 6s/step - loss: 0.0020 - categorical_accuracy: 1.0000 - val_loss: 0.0588 - val_categorical_accuracy: 0.9800 - lr: 1.0000e-04\n",
      "Epoch 23/30\n",
      "21/21 [==============================] - ETA: 0s - loss: 0.0014 - categorical_accuracy: 1.0000\n",
      "Epoch 00023: val_loss did not improve from 0.05883\n",
      "21/21 [==============================] - 120s 6s/step - loss: 0.0014 - categorical_accuracy: 1.0000 - val_loss: 0.2530 - val_categorical_accuracy: 0.9200 - lr: 1.0000e-04\n",
      "Epoch 24/30\n",
      "21/21 [==============================] - ETA: 0s - loss: 0.0113 - categorical_accuracy: 0.9970\n",
      "Epoch 00024: val_loss did not improve from 0.05883\n",
      "21/21 [==============================] - 118s 6s/step - loss: 0.0113 - categorical_accuracy: 0.9970 - val_loss: 0.1402 - val_categorical_accuracy: 0.9600 - lr: 1.0000e-04\n",
      "Epoch 25/30\n",
      "21/21 [==============================] - ETA: 0s - loss: 0.0182 - categorical_accuracy: 0.9970\n",
      "Epoch 00025: val_loss did not improve from 0.05883\n",
      "21/21 [==============================] - 122s 6s/step - loss: 0.0182 - categorical_accuracy: 0.9970 - val_loss: 0.1635 - val_categorical_accuracy: 0.9500 - lr: 1.0000e-04\n",
      "Epoch 26/30\n",
      "21/21 [==============================] - ETA: 0s - loss: 0.0033 - categorical_accuracy: 1.0000\n",
      "Epoch 00026: val_loss did not improve from 0.05883\n",
      "21/21 [==============================] - 123s 6s/step - loss: 0.0033 - categorical_accuracy: 1.0000 - val_loss: 0.1562 - val_categorical_accuracy: 0.9500 - lr: 1.0000e-04\n",
      "Epoch 27/30\n",
      "21/21 [==============================] - ETA: 0s - loss: 7.4332e-04 - categorical_accuracy: 1.0000\n",
      "Epoch 00027: val_loss did not improve from 0.05883\n",
      "21/21 [==============================] - 125s 6s/step - loss: 7.4332e-04 - categorical_accuracy: 1.0000 - val_loss: 0.1248 - val_categorical_accuracy: 0.9500 - lr: 1.0000e-04\n",
      "Epoch 28/30\n",
      "21/21 [==============================] - ETA: 0s - loss: 0.0012 - categorical_accuracy: 1.0000\n",
      "Epoch 00028: val_loss did not improve from 0.05883\n",
      "21/21 [==============================] - 125s 6s/step - loss: 0.0012 - categorical_accuracy: 1.0000 - val_loss: 0.1427 - val_categorical_accuracy: 0.9500 - lr: 1.0000e-04\n",
      "Epoch 29/30\n",
      "21/21 [==============================] - ETA: 0s - loss: 0.0019 - categorical_accuracy: 1.0000\n",
      "Epoch 00029: val_loss did not improve from 0.05883\n",
      "21/21 [==============================] - 130s 6s/step - loss: 0.0019 - categorical_accuracy: 1.0000 - val_loss: 0.1419 - val_categorical_accuracy: 0.9600 - lr: 1.0000e-04\n",
      "Epoch 30/30\n",
      "21/21 [==============================] - ETA: 0s - loss: 0.0075 - categorical_accuracy: 0.9985\n",
      "Epoch 00030: val_loss did not improve from 0.05883\n",
      "21/21 [==============================] - 128s 6s/step - loss: 0.0075 - categorical_accuracy: 0.9985 - val_loss: 0.1872 - val_categorical_accuracy: 0.9400 - lr: 1.0000e-04\n"
     ]
    }
   ],
   "source": [
    "model9_history = model9.fit(train_generator, steps_per_epoch=steps_per_epoch, epochs=num_epochs, verbose=1, \n",
    "                              callbacks=callbacks_list, validation_data=val_generator, \n",
    "                              validation_steps=validation_steps, class_weight=None, initial_epoch=0)"
   ]
  },
  {
   "cell_type": "code",
   "execution_count": 58,
   "metadata": {},
   "outputs": [
    {
     "name": "stdout",
     "output_type": "stream",
     "text": [
      "dict_keys(['loss', 'categorical_accuracy', 'val_loss', 'val_categorical_accuracy', 'lr'])\n"
     ]
    },
    {
     "data": {
      "image/png": "[encoded data removed]",
      "text/plain": [
       "<Figure size 432x288 with 1 Axes>"
      ]
     },
     "metadata": {
      "needs_background": "light"
     },
     "output_type": "display_data"
    },
    {
     "data": {
      "image/png": "[encoded data removed]",
      "text/plain": [
       "<Figure size 432x288 with 1 Axes>"
      ]
     },
     "metadata": {
      "needs_background": "light"
     },
     "output_type": "display_data"
    },
    {
     "name": "stdout",
     "output_type": "stream",
     "text": [
      "Max. Training Accuracy 1.0\n",
      "Max. Validaiton Accuracy 0.9800000190734863\n"
     ]
    }
   ],
   "source": [
    "plot_loss_accuracy(model9_history)"
   ]
  },
  {
   "cell_type": "code",
   "execution_count": null,
   "metadata": {},
   "outputs": [],
   "source": []
  }
 ],
 "metadata": {
  "kernelspec": {
   "display_name": "Python 3 (ipykernel)",
   "language": "python",
   "name": "python3"
  },
  "language_info": {
   "codemirror_mode": {
    "name": "ipython",
    "version": 3
   },
   "file_extension": ".py",
   "mimetype": "text/x-python",
   "name": "python",
   "nbconvert_exporter": "python",
   "pygments_lexer": "ipython3",
   "version": "3.11.5"
  }
 },
 "nbformat": 4,
 "nbformat_minor": 4
}
